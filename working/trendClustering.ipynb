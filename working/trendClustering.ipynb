{
 "cells": [
  {
   "cell_type": "code",
   "execution_count": 18,
   "metadata": {
    "collapsed": true
   },
   "outputs": [],
   "source": [
    "import pandas as pd\n",
    "import numpy as np\n",
    "from copy import copy, deepcopy\n",
    "import random\n",
    "import datetime\n",
    "from tslearn.preprocessing import TimeSeriesScalerMeanVariance, TimeSeriesResampler\n",
    "from tslearn.clustering import TimeSeriesKMeans\n",
    "import matplotlib.pyplot as plt\n",
    "import sklearn as sk\n",
    "\n",
    "\n",
    "# Import data\n",
    "seed = 44\n",
    "np.random.seed(seed)\n",
    "random.seed(seed)"
   ]
  },
  {
   "cell_type": "code",
   "execution_count": 4,
   "outputs": [
    {
     "name": "stdout",
     "output_type": "stream",
     "text": [
      "Reading file...\n",
      "Done reading!\n",
      "Everything done!\n"
     ]
    }
   ],
   "source": [
    "print(\"Reading file...\")\n",
    "all_df = pd.read_csv('./data.csv', low_memory=False)\n",
    "print(\"Done reading!\")\n",
    "all_df['time'] = pd.to_datetime(all_df['timestamp'] * 1000000000)\n",
    "all_df = all_df.rename({'time': 'ds', 'percentOfMaxPrice': 'y'}, axis='columns')\n",
    "dfs = [v for k, v in all_df.groupby('itadPlain')]\n",
    "print(\"Everything done!\")\n"
   ],
   "metadata": {
    "collapsed": false,
    "pycharm": {
     "name": "#%%\n"
    }
   }
  },
  {
   "cell_type": "code",
   "execution_count": 14,
   "outputs": [],
   "source": [
    "\n",
    "onlyTrend = []\n",
    "for df in dfs:\n",
    "    onlyTrend.append(df['y'])\n",
    "\n",
    "trends = np.array(onlyTrend, dtype=object)"
   ],
   "metadata": {
    "collapsed": false,
    "pycharm": {
     "name": "#%%\n"
    }
   }
  },
  {
   "cell_type": "code",
   "execution_count": 15,
   "outputs": [],
   "source": [
    "# Convert it so that it's compatible with numpy\n",
    "for i in range(0, len(trends)):\n",
    "    trends[i] = trends[i].to_numpy()"
   ],
   "metadata": {
    "collapsed": false,
    "pycharm": {
     "name": "#%%\n"
    }
   }
  },
  {
   "cell_type": "code",
   "execution_count": 16,
   "outputs": [],
   "source": [
    "# Train Splitting\n",
    "X_train = trends\n",
    "np.random.shuffle(X_train)\n",
    "X_train = X_train[:2000]"
   ],
   "metadata": {
    "collapsed": false,
    "pycharm": {
     "name": "#%%# Standardize the length, then normalize around 0\n"
    }
   }
  },
  {
   "cell_type": "code",
   "execution_count": 9,
   "outputs": [
    {
     "data": {
      "text/plain": "array([array([1.        , 0.79927273, 0.79927273, ..., 0.67054545, 0.67054545,\n              0.67054545])                                                    ,\n       array([0.89856145, 0.73983752, 0.73983752, ..., 0.2791931 , 0.2791931 ,\n              0.2791931 ])                                                    ,\n       array([1.        , 0.71779809, 0.21409922, ..., 0.47845953, 0.47845953,\n              0.47845953])                                                    ,\n       array([-9.57, -6.49, -6.49, ..., -0.  , -0.  , -0.  ]),\n       array([1.       , 0.8373583, 0.8373583, ..., 0.8373583, 0.8373583,\n              0.8373583])                                                ],\n      dtype=object)"
     },
     "execution_count": 9,
     "metadata": {},
     "output_type": "execute_result"
    }
   ],
   "source": [
    "# this is the data we're working with.\n",
    "X_train[0:5]"
   ],
   "metadata": {
    "collapsed": false,
    "pycharm": {
     "name": "#%%\n"
    }
   }
  },
  {
   "cell_type": "code",
   "execution_count": 19,
   "outputs": [],
   "source": [
    "def create_training_data(sz=80):\n",
    "    # Normalize around 0\n",
    "    t_data = TimeSeriesResampler(sz=80).fit_transform(trends)[:2000]\n",
    "    t_data = TimeSeriesScalerMeanVariance().fit_transform(t_data)\n",
    "    return t_data"
   ],
   "metadata": {
    "collapsed": false,
    "pycharm": {
     "name": "#%%\n"
    }
   }
  },
  {
   "cell_type": "markdown",
   "source": [
    "We know from the [[learning.ipynb]] that:\n",
    "   1) 16 trend \"classes\" is not nearly enough\n",
    "   2)"
   ],
   "metadata": {
    "collapsed": false,
    "pycharm": {
     "name": "#%% md\n"
    }
   }
  },
  {
   "cell_type": "code",
   "execution_count": 22,
   "outputs": [
    {
     "name": "stdout",
     "output_type": "stream",
     "text": [
      "Soft-DTW k-means\n",
      "557.017 --> 320.800 --> 303.908 --> "
     ]
    },
    {
     "ename": "KeyboardInterrupt",
     "evalue": "",
     "output_type": "error",
     "traceback": [
      "\u001B[1;31m---------------------------------------------------------------------------\u001B[0m",
      "\u001B[1;31mKeyboardInterrupt\u001B[0m                         Traceback (most recent call last)",
      "Input \u001B[1;32mIn [22]\u001B[0m, in \u001B[0;36m<cell line: 6>\u001B[1;34m()\u001B[0m\n\u001B[0;32m      4\u001B[0m \u001B[38;5;28mprint\u001B[39m(\u001B[38;5;124m\"\u001B[39m\u001B[38;5;124mSoft-DTW k-means\u001B[39m\u001B[38;5;124m\"\u001B[39m)\n\u001B[0;32m      5\u001B[0m sdtw_km \u001B[38;5;241m=\u001B[39m TimeSeriesKMeans(n_clusters\u001B[38;5;241m=\u001B[39m\u001B[38;5;241m16\u001B[39m, n_jobs\u001B[38;5;241m=\u001B[39m\u001B[38;5;241m-\u001B[39m\u001B[38;5;241m1\u001B[39m,metric\u001B[38;5;241m=\u001B[39m\u001B[38;5;124m\"\u001B[39m\u001B[38;5;124msoftdtw\u001B[39m\u001B[38;5;124m\"\u001B[39m, metric_params\u001B[38;5;241m=\u001B[39m{\u001B[38;5;124m\"\u001B[39m\u001B[38;5;124mgamma\u001B[39m\u001B[38;5;124m\"\u001B[39m: \u001B[38;5;241m.01\u001B[39m},verbose\u001B[38;5;241m=\u001B[39m\u001B[38;5;28;01mTrue\u001B[39;00m,random_state\u001B[38;5;241m=\u001B[39mseed)\n\u001B[1;32m----> 6\u001B[0m y_pred \u001B[38;5;241m=\u001B[39m \u001B[43msdtw_km\u001B[49m\u001B[38;5;241;43m.\u001B[39;49m\u001B[43mfit_predict\u001B[49m\u001B[43m(\u001B[49m\u001B[43msdtw_data\u001B[49m\u001B[43m)\u001B[49m\n\u001B[0;32m      8\u001B[0m plt\u001B[38;5;241m.\u001B[39mfigure(figsize\u001B[38;5;241m=\u001B[39m(\u001B[38;5;241m18\u001B[39m, \u001B[38;5;241m10\u001B[39m))\n\u001B[0;32m      9\u001B[0m \u001B[38;5;28;01mfor\u001B[39;00m yi \u001B[38;5;129;01min\u001B[39;00m \u001B[38;5;28mrange\u001B[39m(\u001B[38;5;241m16\u001B[39m):\n",
      "File \u001B[1;32m~\\Documents\\gitstuff\\msci-446\\working\\venv\\lib\\site-packages\\tslearn\\clustering\\kmeans.py:813\u001B[0m, in \u001B[0;36mTimeSeriesKMeans.fit_predict\u001B[1;34m(self, X, y)\u001B[0m\n\u001B[0;32m    793\u001B[0m \u001B[38;5;124;03m\"\"\"Fit k-means clustering using X and then predict the closest cluster\u001B[39;00m\n\u001B[0;32m    794\u001B[0m \u001B[38;5;124;03meach time series in X belongs to.\u001B[39;00m\n\u001B[0;32m    795\u001B[0m \n\u001B[1;32m   (...)\u001B[0m\n\u001B[0;32m    810\u001B[0m \u001B[38;5;124;03m    Index of the cluster each sample belongs to.\u001B[39;00m\n\u001B[0;32m    811\u001B[0m \u001B[38;5;124;03m\"\"\"\u001B[39;00m\n\u001B[0;32m    812\u001B[0m X \u001B[38;5;241m=\u001B[39m check_array(X, allow_nd\u001B[38;5;241m=\u001B[39m\u001B[38;5;28;01mTrue\u001B[39;00m, force_all_finite\u001B[38;5;241m=\u001B[39m\u001B[38;5;124m'\u001B[39m\u001B[38;5;124mallow-nan\u001B[39m\u001B[38;5;124m'\u001B[39m)\n\u001B[1;32m--> 813\u001B[0m \u001B[38;5;28;01mreturn\u001B[39;00m \u001B[38;5;28;43mself\u001B[39;49m\u001B[38;5;241;43m.\u001B[39;49m\u001B[43mfit\u001B[49m\u001B[43m(\u001B[49m\u001B[43mX\u001B[49m\u001B[43m,\u001B[49m\u001B[43m \u001B[49m\u001B[43my\u001B[49m\u001B[43m)\u001B[49m\u001B[38;5;241m.\u001B[39mlabels_\n",
      "File \u001B[1;32m~\\Documents\\gitstuff\\msci-446\\working\\venv\\lib\\site-packages\\tslearn\\clustering\\kmeans.py:780\u001B[0m, in \u001B[0;36mTimeSeriesKMeans.fit\u001B[1;34m(self, X, y)\u001B[0m\n\u001B[0;32m    778\u001B[0m     \u001B[38;5;28mprint\u001B[39m(\u001B[38;5;124m\"\u001B[39m\u001B[38;5;124mInit \u001B[39m\u001B[38;5;132;01m%d\u001B[39;00m\u001B[38;5;124m\"\u001B[39m \u001B[38;5;241m%\u001B[39m (n_successful \u001B[38;5;241m+\u001B[39m \u001B[38;5;241m1\u001B[39m))\n\u001B[0;32m    779\u001B[0m n_attempts \u001B[38;5;241m+\u001B[39m\u001B[38;5;241m=\u001B[39m \u001B[38;5;241m1\u001B[39m\n\u001B[1;32m--> 780\u001B[0m \u001B[38;5;28;43mself\u001B[39;49m\u001B[38;5;241;43m.\u001B[39;49m\u001B[43m_fit_one_init\u001B[49m\u001B[43m(\u001B[49m\u001B[43mX_\u001B[49m\u001B[43m,\u001B[49m\u001B[43m \u001B[49m\u001B[43mx_squared_norms\u001B[49m\u001B[43m,\u001B[49m\u001B[43m \u001B[49m\u001B[43mrs\u001B[49m\u001B[43m)\u001B[49m\n\u001B[0;32m    781\u001B[0m \u001B[38;5;28;01mif\u001B[39;00m \u001B[38;5;28mself\u001B[39m\u001B[38;5;241m.\u001B[39minertia_ \u001B[38;5;241m<\u001B[39m min_inertia:\n\u001B[0;32m    782\u001B[0m     best_correct_centroids \u001B[38;5;241m=\u001B[39m \u001B[38;5;28mself\u001B[39m\u001B[38;5;241m.\u001B[39mcluster_centers_\u001B[38;5;241m.\u001B[39mcopy()\n",
      "File \u001B[1;32m~\\Documents\\gitstuff\\msci-446\\working\\venv\\lib\\site-packages\\tslearn\\clustering\\kmeans.py:662\u001B[0m, in \u001B[0;36mTimeSeriesKMeans._fit_one_init\u001B[1;34m(self, X, x_squared_norms, rs)\u001B[0m\n\u001B[0;32m    659\u001B[0m old_inertia \u001B[38;5;241m=\u001B[39m numpy\u001B[38;5;241m.\u001B[39minf\n\u001B[0;32m    661\u001B[0m \u001B[38;5;28;01mfor\u001B[39;00m it \u001B[38;5;129;01min\u001B[39;00m \u001B[38;5;28mrange\u001B[39m(\u001B[38;5;28mself\u001B[39m\u001B[38;5;241m.\u001B[39mmax_iter):\n\u001B[1;32m--> 662\u001B[0m     \u001B[38;5;28;43mself\u001B[39;49m\u001B[38;5;241;43m.\u001B[39;49m\u001B[43m_assign\u001B[49m\u001B[43m(\u001B[49m\u001B[43mX\u001B[49m\u001B[43m)\u001B[49m\n\u001B[0;32m    663\u001B[0m     \u001B[38;5;28;01mif\u001B[39;00m \u001B[38;5;28mself\u001B[39m\u001B[38;5;241m.\u001B[39mverbose:\n\u001B[0;32m    664\u001B[0m         \u001B[38;5;28mprint\u001B[39m(\u001B[38;5;124m\"\u001B[39m\u001B[38;5;132;01m%.3f\u001B[39;00m\u001B[38;5;124m\"\u001B[39m \u001B[38;5;241m%\u001B[39m \u001B[38;5;28mself\u001B[39m\u001B[38;5;241m.\u001B[39minertia_, end\u001B[38;5;241m=\u001B[39m\u001B[38;5;124m\"\u001B[39m\u001B[38;5;124m --> \u001B[39m\u001B[38;5;124m\"\u001B[39m)\n",
      "File \u001B[1;32m~\\Documents\\gitstuff\\msci-446\\working\\venv\\lib\\site-packages\\tslearn\\clustering\\kmeans.py:693\u001B[0m, in \u001B[0;36mTimeSeriesKMeans._assign\u001B[1;34m(self, X, update_class_attributes)\u001B[0m\n\u001B[0;32m    692\u001B[0m \u001B[38;5;28;01mdef\u001B[39;00m \u001B[38;5;21m_assign\u001B[39m(\u001B[38;5;28mself\u001B[39m, X, update_class_attributes\u001B[38;5;241m=\u001B[39m\u001B[38;5;28;01mTrue\u001B[39;00m):\n\u001B[1;32m--> 693\u001B[0m     dists \u001B[38;5;241m=\u001B[39m \u001B[38;5;28;43mself\u001B[39;49m\u001B[38;5;241;43m.\u001B[39;49m\u001B[43m_transform\u001B[49m\u001B[43m(\u001B[49m\u001B[43mX\u001B[49m\u001B[43m)\u001B[49m\n\u001B[0;32m    694\u001B[0m     matched_labels \u001B[38;5;241m=\u001B[39m dists\u001B[38;5;241m.\u001B[39margmin(axis\u001B[38;5;241m=\u001B[39m\u001B[38;5;241m1\u001B[39m)\n\u001B[0;32m    695\u001B[0m     \u001B[38;5;28;01mif\u001B[39;00m update_class_attributes:\n",
      "File \u001B[1;32m~\\Documents\\gitstuff\\msci-446\\working\\venv\\lib\\site-packages\\tslearn\\clustering\\kmeans.py:687\u001B[0m, in \u001B[0;36mTimeSeriesKMeans._transform\u001B[1;34m(self, X)\u001B[0m\n\u001B[0;32m    684\u001B[0m     \u001B[38;5;28;01mreturn\u001B[39;00m cdist_dtw(X, \u001B[38;5;28mself\u001B[39m\u001B[38;5;241m.\u001B[39mcluster_centers_, n_jobs\u001B[38;5;241m=\u001B[39m\u001B[38;5;28mself\u001B[39m\u001B[38;5;241m.\u001B[39mn_jobs,\n\u001B[0;32m    685\u001B[0m                      verbose\u001B[38;5;241m=\u001B[39m\u001B[38;5;28mself\u001B[39m\u001B[38;5;241m.\u001B[39mverbose, \u001B[38;5;241m*\u001B[39m\u001B[38;5;241m*\u001B[39mmetric_params)\n\u001B[0;32m    686\u001B[0m \u001B[38;5;28;01melif\u001B[39;00m \u001B[38;5;28mself\u001B[39m\u001B[38;5;241m.\u001B[39mmetric \u001B[38;5;241m==\u001B[39m \u001B[38;5;124m\"\u001B[39m\u001B[38;5;124msoftdtw\u001B[39m\u001B[38;5;124m\"\u001B[39m:\n\u001B[1;32m--> 687\u001B[0m     \u001B[38;5;28;01mreturn\u001B[39;00m \u001B[43mcdist_soft_dtw\u001B[49m\u001B[43m(\u001B[49m\u001B[43mX\u001B[49m\u001B[43m,\u001B[49m\u001B[43m \u001B[49m\u001B[38;5;28;43mself\u001B[39;49m\u001B[38;5;241;43m.\u001B[39;49m\u001B[43mcluster_centers_\u001B[49m\u001B[43m,\u001B[49m\u001B[43m \u001B[49m\u001B[38;5;241;43m*\u001B[39;49m\u001B[38;5;241;43m*\u001B[39;49m\u001B[43mmetric_params\u001B[49m\u001B[43m)\u001B[49m\n\u001B[0;32m    688\u001B[0m \u001B[38;5;28;01melse\u001B[39;00m:\n\u001B[0;32m    689\u001B[0m     \u001B[38;5;28;01mraise\u001B[39;00m \u001B[38;5;167;01mValueError\u001B[39;00m(\u001B[38;5;124m\"\u001B[39m\u001B[38;5;124mIncorrect metric: \u001B[39m\u001B[38;5;132;01m%s\u001B[39;00m\u001B[38;5;124m (should be one of \u001B[39m\u001B[38;5;124m'\u001B[39m\u001B[38;5;124mdtw\u001B[39m\u001B[38;5;124m'\u001B[39m\u001B[38;5;124m, \u001B[39m\u001B[38;5;124m\"\u001B[39m\n\u001B[0;32m    690\u001B[0m                      \u001B[38;5;124m\"\u001B[39m\u001B[38;5;124m'\u001B[39m\u001B[38;5;124msoftdtw\u001B[39m\u001B[38;5;124m'\u001B[39m\u001B[38;5;124m, \u001B[39m\u001B[38;5;124m'\u001B[39m\u001B[38;5;124meuclidean\u001B[39m\u001B[38;5;124m'\u001B[39m\u001B[38;5;124m)\u001B[39m\u001B[38;5;124m\"\u001B[39m \u001B[38;5;241m%\u001B[39m \u001B[38;5;28mself\u001B[39m\u001B[38;5;241m.\u001B[39mmetric)\n",
      "File \u001B[1;32m~\\Documents\\gitstuff\\msci-446\\working\\venv\\lib\\site-packages\\tslearn\\metrics\\softdtw_variants.py:530\u001B[0m, in \u001B[0;36mcdist_soft_dtw\u001B[1;34m(dataset1, dataset2, gamma)\u001B[0m\n\u001B[0;32m    528\u001B[0m             dists[i, j] \u001B[38;5;241m=\u001B[39m dists[j, i]\n\u001B[0;32m    529\u001B[0m         \u001B[38;5;28;01melse\u001B[39;00m:\n\u001B[1;32m--> 530\u001B[0m             dists[i, j] \u001B[38;5;241m=\u001B[39m \u001B[43msoft_dtw\u001B[49m\u001B[43m(\u001B[49m\u001B[43mts1_short\u001B[49m\u001B[43m,\u001B[49m\u001B[43m \u001B[49m\u001B[43mts2_short\u001B[49m\u001B[43m,\u001B[49m\u001B[43m \u001B[49m\u001B[43mgamma\u001B[49m\u001B[38;5;241;43m=\u001B[39;49m\u001B[43mgamma\u001B[49m\u001B[43m)\u001B[49m\n\u001B[0;32m    532\u001B[0m \u001B[38;5;28;01mreturn\u001B[39;00m dists\n",
      "File \u001B[1;32m~\\Documents\\gitstuff\\msci-446\\working\\venv\\lib\\site-packages\\tslearn\\metrics\\softdtw_variants.py:373\u001B[0m, in \u001B[0;36msoft_dtw\u001B[1;34m(ts1, ts2, gamma)\u001B[0m\n\u001B[0;32m    371\u001B[0m \u001B[38;5;28;01mif\u001B[39;00m gamma \u001B[38;5;241m==\u001B[39m \u001B[38;5;241m0.\u001B[39m:\n\u001B[0;32m    372\u001B[0m     \u001B[38;5;28;01mreturn\u001B[39;00m dtw(ts1, ts2) \u001B[38;5;241m*\u001B[39m\u001B[38;5;241m*\u001B[39m \u001B[38;5;241m2\u001B[39m\n\u001B[1;32m--> 373\u001B[0m \u001B[38;5;28;01mreturn\u001B[39;00m \u001B[43mSoftDTW\u001B[49m\u001B[43m(\u001B[49m\u001B[43mSquaredEuclidean\u001B[49m\u001B[43m(\u001B[49m\u001B[43mts1\u001B[49m\u001B[43m[\u001B[49m\u001B[43m:\u001B[49m\u001B[43mts_size\u001B[49m\u001B[43m(\u001B[49m\u001B[43mts1\u001B[49m\u001B[43m)\u001B[49m\u001B[43m]\u001B[49m\u001B[43m,\u001B[49m\u001B[43m \u001B[49m\u001B[43mts2\u001B[49m\u001B[43m[\u001B[49m\u001B[43m:\u001B[49m\u001B[43mts_size\u001B[49m\u001B[43m(\u001B[49m\u001B[43mts2\u001B[49m\u001B[43m)\u001B[49m\u001B[43m]\u001B[49m\u001B[43m)\u001B[49m\u001B[43m,\u001B[49m\n\u001B[0;32m    374\u001B[0m \u001B[43m               \u001B[49m\u001B[43mgamma\u001B[49m\u001B[38;5;241;43m=\u001B[39;49m\u001B[43mgamma\u001B[49m\u001B[43m)\u001B[49m\u001B[38;5;241m.\u001B[39mcompute()\n",
      "File \u001B[1;32m~\\Documents\\gitstuff\\msci-446\\working\\venv\\lib\\site-packages\\tslearn\\metrics\\softdtw_variants.py:623\u001B[0m, in \u001B[0;36mSoftDTW.__init__\u001B[1;34m(self, D, gamma)\u001B[0m\n\u001B[0;32m    610\u001B[0m \u001B[38;5;124;03m\"\"\"\u001B[39;00m\n\u001B[0;32m    611\u001B[0m \u001B[38;5;124;03mParameters\u001B[39;00m\n\u001B[0;32m    612\u001B[0m \u001B[38;5;124;03m----------\u001B[39;00m\n\u001B[1;32m   (...)\u001B[0m\n\u001B[0;32m    620\u001B[0m \u001B[38;5;124;03m    Accumulated cost matrix (stored after calling `compute`).\u001B[39;00m\n\u001B[0;32m    621\u001B[0m \u001B[38;5;124;03m\"\"\"\u001B[39;00m\n\u001B[0;32m    622\u001B[0m \u001B[38;5;28;01mif\u001B[39;00m \u001B[38;5;28mhasattr\u001B[39m(D, \u001B[38;5;124m\"\u001B[39m\u001B[38;5;124mcompute\u001B[39m\u001B[38;5;124m\"\u001B[39m):\n\u001B[1;32m--> 623\u001B[0m     \u001B[38;5;28mself\u001B[39m\u001B[38;5;241m.\u001B[39mD \u001B[38;5;241m=\u001B[39m \u001B[43mD\u001B[49m\u001B[38;5;241;43m.\u001B[39;49m\u001B[43mcompute\u001B[49m\u001B[43m(\u001B[49m\u001B[43m)\u001B[49m\n\u001B[0;32m    624\u001B[0m \u001B[38;5;28;01melse\u001B[39;00m:\n\u001B[0;32m    625\u001B[0m     \u001B[38;5;28mself\u001B[39m\u001B[38;5;241m.\u001B[39mD \u001B[38;5;241m=\u001B[39m D\n",
      "File \u001B[1;32m~\\Documents\\gitstuff\\msci-446\\working\\venv\\lib\\site-packages\\tslearn\\metrics\\softdtw_variants.py:710\u001B[0m, in \u001B[0;36mSquaredEuclidean.compute\u001B[1;34m(self)\u001B[0m\n\u001B[0;32m    702\u001B[0m \u001B[38;5;28;01mdef\u001B[39;00m \u001B[38;5;21mcompute\u001B[39m(\u001B[38;5;28mself\u001B[39m):\n\u001B[0;32m    703\u001B[0m     \u001B[38;5;124;03m\"\"\"Compute distance matrix.\u001B[39;00m\n\u001B[0;32m    704\u001B[0m \n\u001B[0;32m    705\u001B[0m \u001B[38;5;124;03m    Returns\u001B[39;00m\n\u001B[1;32m   (...)\u001B[0m\n\u001B[0;32m    708\u001B[0m \u001B[38;5;124;03m        Distance matrix.\u001B[39;00m\n\u001B[0;32m    709\u001B[0m \u001B[38;5;124;03m    \"\"\"\u001B[39;00m\n\u001B[1;32m--> 710\u001B[0m     \u001B[38;5;28;01mreturn\u001B[39;00m \u001B[43meuclidean_distances\u001B[49m\u001B[43m(\u001B[49m\u001B[38;5;28;43mself\u001B[39;49m\u001B[38;5;241;43m.\u001B[39;49m\u001B[43mX\u001B[49m\u001B[43m,\u001B[49m\u001B[43m \u001B[49m\u001B[38;5;28;43mself\u001B[39;49m\u001B[38;5;241;43m.\u001B[39;49m\u001B[43mY\u001B[49m\u001B[43m,\u001B[49m\u001B[43m \u001B[49m\u001B[43msquared\u001B[49m\u001B[38;5;241;43m=\u001B[39;49m\u001B[38;5;28;43;01mTrue\u001B[39;49;00m\u001B[43m)\u001B[49m\n",
      "File \u001B[1;32m~\\Documents\\gitstuff\\msci-446\\working\\venv\\lib\\site-packages\\sklearn\\metrics\\pairwise.py:330\u001B[0m, in \u001B[0;36meuclidean_distances\u001B[1;34m(X, Y, Y_norm_squared, squared, X_norm_squared)\u001B[0m\n\u001B[0;32m    324\u001B[0m     \u001B[38;5;28;01mif\u001B[39;00m Y_norm_squared\u001B[38;5;241m.\u001B[39mshape \u001B[38;5;241m!=\u001B[39m (\u001B[38;5;241m1\u001B[39m, Y\u001B[38;5;241m.\u001B[39mshape[\u001B[38;5;241m0\u001B[39m]):\n\u001B[0;32m    325\u001B[0m         \u001B[38;5;28;01mraise\u001B[39;00m \u001B[38;5;167;01mValueError\u001B[39;00m(\n\u001B[0;32m    326\u001B[0m             \u001B[38;5;124mf\u001B[39m\u001B[38;5;124m\"\u001B[39m\u001B[38;5;124mIncompatible dimensions for Y of shape \u001B[39m\u001B[38;5;132;01m{\u001B[39;00mY\u001B[38;5;241m.\u001B[39mshape\u001B[38;5;132;01m}\u001B[39;00m\u001B[38;5;124m and \u001B[39m\u001B[38;5;124m\"\u001B[39m\n\u001B[0;32m    327\u001B[0m             \u001B[38;5;124mf\u001B[39m\u001B[38;5;124m\"\u001B[39m\u001B[38;5;124mY_norm_squared of shape \u001B[39m\u001B[38;5;132;01m{\u001B[39;00moriginal_shape\u001B[38;5;132;01m}\u001B[39;00m\u001B[38;5;124m.\u001B[39m\u001B[38;5;124m\"\u001B[39m\n\u001B[0;32m    328\u001B[0m         )\n\u001B[1;32m--> 330\u001B[0m \u001B[38;5;28;01mreturn\u001B[39;00m \u001B[43m_euclidean_distances\u001B[49m\u001B[43m(\u001B[49m\u001B[43mX\u001B[49m\u001B[43m,\u001B[49m\u001B[43m \u001B[49m\u001B[43mY\u001B[49m\u001B[43m,\u001B[49m\u001B[43m \u001B[49m\u001B[43mX_norm_squared\u001B[49m\u001B[43m,\u001B[49m\u001B[43m \u001B[49m\u001B[43mY_norm_squared\u001B[49m\u001B[43m,\u001B[49m\u001B[43m \u001B[49m\u001B[43msquared\u001B[49m\u001B[43m)\u001B[49m\n",
      "File \u001B[1;32m~\\Documents\\gitstuff\\msci-446\\working\\venv\\lib\\site-packages\\sklearn\\metrics\\pairwise.py:371\u001B[0m, in \u001B[0;36m_euclidean_distances\u001B[1;34m(X, Y, X_norm_squared, Y_norm_squared, squared)\u001B[0m\n\u001B[0;32m    368\u001B[0m     distances \u001B[38;5;241m=\u001B[39m _euclidean_distances_upcast(X, XX, Y, YY)\n\u001B[0;32m    369\u001B[0m \u001B[38;5;28;01melse\u001B[39;00m:\n\u001B[0;32m    370\u001B[0m     \u001B[38;5;66;03m# if dtype is already float64, no need to chunk and upcast\u001B[39;00m\n\u001B[1;32m--> 371\u001B[0m     distances \u001B[38;5;241m=\u001B[39m \u001B[38;5;241m-\u001B[39m\u001B[38;5;241m2\u001B[39m \u001B[38;5;241m*\u001B[39m \u001B[43msafe_sparse_dot\u001B[49m\u001B[43m(\u001B[49m\u001B[43mX\u001B[49m\u001B[43m,\u001B[49m\u001B[43m \u001B[49m\u001B[43mY\u001B[49m\u001B[38;5;241;43m.\u001B[39;49m\u001B[43mT\u001B[49m\u001B[43m,\u001B[49m\u001B[43m \u001B[49m\u001B[43mdense_output\u001B[49m\u001B[38;5;241;43m=\u001B[39;49m\u001B[38;5;28;43;01mTrue\u001B[39;49;00m\u001B[43m)\u001B[49m\n\u001B[0;32m    372\u001B[0m     distances \u001B[38;5;241m+\u001B[39m\u001B[38;5;241m=\u001B[39m XX\n\u001B[0;32m    373\u001B[0m     distances \u001B[38;5;241m+\u001B[39m\u001B[38;5;241m=\u001B[39m YY\n",
      "File \u001B[1;32m~\\Documents\\gitstuff\\msci-446\\working\\venv\\lib\\site-packages\\sklearn\\utils\\extmath.py:153\u001B[0m, in \u001B[0;36msafe_sparse_dot\u001B[1;34m(a, b, dense_output)\u001B[0m\n\u001B[0;32m    151\u001B[0m         ret \u001B[38;5;241m=\u001B[39m np\u001B[38;5;241m.\u001B[39mdot(a, b)\n\u001B[0;32m    152\u001B[0m \u001B[38;5;28;01melse\u001B[39;00m:\n\u001B[1;32m--> 153\u001B[0m     ret \u001B[38;5;241m=\u001B[39m \u001B[43ma\u001B[49m\u001B[43m \u001B[49m\u001B[38;5;241;43m@\u001B[39;49m\u001B[43m \u001B[49m\u001B[43mb\u001B[49m\n\u001B[0;32m    155\u001B[0m \u001B[38;5;28;01mif\u001B[39;00m (\n\u001B[0;32m    156\u001B[0m     sparse\u001B[38;5;241m.\u001B[39missparse(a)\n\u001B[0;32m    157\u001B[0m     \u001B[38;5;129;01mand\u001B[39;00m sparse\u001B[38;5;241m.\u001B[39missparse(b)\n\u001B[0;32m    158\u001B[0m     \u001B[38;5;129;01mand\u001B[39;00m dense_output\n\u001B[0;32m    159\u001B[0m     \u001B[38;5;129;01mand\u001B[39;00m \u001B[38;5;28mhasattr\u001B[39m(ret, \u001B[38;5;124m\"\u001B[39m\u001B[38;5;124mtoarray\u001B[39m\u001B[38;5;124m\"\u001B[39m)\n\u001B[0;32m    160\u001B[0m ):\n\u001B[0;32m    161\u001B[0m     \u001B[38;5;28;01mreturn\u001B[39;00m ret\u001B[38;5;241m.\u001B[39mtoarray()\n",
      "\u001B[1;31mKeyboardInterrupt\u001B[0m: "
     ]
    }
   ],
   "source": [
    "# Soft-DTW-k-means\n",
    "\n",
    "sdtw_data = create_training_data()\n",
    "print(\"Soft-DTW k-means\")\n",
    "sdtw_km = TimeSeriesKMeans(n_clusters=16, n_jobs=-1,metric=\"softdtw\", metric_params={\"gamma\": .01},verbose=True,random_state=seed)\n",
    "\n",
    "# 80/20 split again\n",
    "kf = sk.model_selection.KFold(shuffle=True,random_state=seed)\n",
    "\n",
    "y_pred = sdtw_km.fit_predict(sdtw_data)\n",
    "\n",
    "plt.figure(figsize=(18, 10))\n",
    "for yi in range(16):\n",
    "    plt.subplot(4, 4, 1 + yi)\n",
    "    for xx in sdtw_data[y_pred == yi]:\n",
    "        plt.plot(xx.ravel(), \"k-\", alpha=.2)\n",
    "    plt.plot(sdtw_km.cluster_centers_[yi].ravel(), \"r-\")\n",
    "    plt.xlim(0, 40)\n",
    "    plt.ylim(-4, 4)\n",
    "    plt.text(0.55, 0.85,'Cluster %d' % (yi + 1),\n",
    "             transform=plt.gca().transAxes)\n",
    "    if yi == 1:\n",
    "        plt.title(\"Soft-DTW $k$-means\")\n",
    "\n",
    "plt.tight_layout()\n",
    "plt.show()"
   ],
   "metadata": {
    "collapsed": false,
    "pycharm": {
     "name": "#%%\n"
    }
   }
  },
  {
   "cell_type": "code",
   "execution_count": null,
   "outputs": [],
   "source": [
    "from tslearn.clustering import TimeSeriesKMeans\n",
    "import matplotlib.pyplot as plt\n",
    "import datetime\n",
    "\n",
    "\n",
    "def train_clustering_model(model):\n",
    "    # We know from [[./learning.ipynb]] that\n",
    "\n",
    "    return"
   ],
   "metadata": {
    "collapsed": false,
    "pycharm": {
     "name": "#%%\n"
    }
   }
  },
  {
   "cell_type": "code",
   "execution_count": 17,
   "outputs": [
    {
     "data": {
      "text/plain": "array([0.96629213, 0.77212079, 0.77212079, ..., 0.26580056, 0.26580056,\n       0.26580056])"
     },
     "execution_count": 17,
     "metadata": {},
     "output_type": "execute_result"
    }
   ],
   "source": [
    "X_train[0]"
   ],
   "metadata": {
    "collapsed": false,
    "pycharm": {
     "name": "#%%\n"
    }
   }
  },
  {
   "cell_type": "markdown",
   "source": [],
   "metadata": {
    "collapsed": false,
    "pycharm": {
     "name": "#%% md\n"
    }
   }
  },
  {
   "cell_type": "code",
   "execution_count": null,
   "outputs": [],
   "source": [],
   "metadata": {
    "collapsed": false,
    "pycharm": {
     "name": "#%%\n"
    }
   }
  },
  {
   "cell_type": "code",
   "execution_count": null,
   "outputs": [],
   "source": [],
   "metadata": {
    "collapsed": false,
    "pycharm": {
     "name": "#%%\n"
    }
   }
  }
 ],
 "metadata": {
  "kernelspec": {
   "display_name": "Python 3",
   "language": "python",
   "name": "python3"
  },
  "language_info": {
   "codemirror_mode": {
    "name": "ipython",
    "version": 2
   },
   "file_extension": ".py",
   "mimetype": "text/x-python",
   "name": "python",
   "nbconvert_exporter": "python",
   "pygments_lexer": "ipython2",
   "version": "2.7.6"
  }
 },
 "nbformat": 4,
 "nbformat_minor": 0
}