{
 "cells": [
  {
   "cell_type": "code",
   "execution_count": 1,
   "outputs": [],
   "source": [
    "import json\n",
    "lines = ''\n",
    "with open(\"data.json\", encoding=\"utf-8\") as f:\n",
    "    lines = ''.join(f.readlines())\n",
    "\n",
    "allData = json.loads(lines)\n"
   ],
   "metadata": {
    "collapsed": false,
    "pycharm": {
     "name": "#%%\n"
    }
   }
  },
  {
   "cell_type": "code",
   "execution_count": 2,
   "outputs": [],
   "source": [
    "# for game in allData:\n",
    "#     print(game['itadPlain'])"
   ],
   "metadata": {
    "collapsed": false,
    "pycharm": {
     "name": "#%%\n"
    }
   }
  },
  {
   "cell_type": "code",
   "execution_count": 3,
   "outputs": [
    {
     "data": {
      "text/plain": "{'steamId': '524220',\n 'itadPlain': 'nierautomata',\n 'itad.position': 1,\n 'itad.rank': 1,\n 'itad.sales': [[1456005749000, 19.99],\n  [1458665932000, 19.99],\n  [1458666774000, 11.99],\n  [1459270405000, 11.99],\n  [1459271668000, 19.99],\n  [1465572067000, 19.99],\n  [1465923310000, 19.99],\n  [1465924595000, 11.99],\n  [1466182562000, 11.99],\n  [1466183182000, 19.99],\n  [1466682484000, 19.99],\n  [1466683768000, 19.99],\n  [1466700744000, 19.99],\n  [1466710282000, 11.99],\n  [1466752198000, 11.99],\n  [1466756890000, 11.99],\n  [1467055249000, 11.99],\n  [1467061585000, 11.99],\n  [1467115991000, 11.99],\n  [1467649507000, 11.99],\n  [1467654345000, 19.99],\n  [1469789837000, 19.99],\n  [1469789838000, 15.78],\n  [1470084012000, 15.78],\n  [1470085211000, 19.99],\n  [1470110417000, 19.99],\n  [1471547740000, 19.99],\n  [1471551336000, 10.99],\n  [1471886137000, 10.99],\n  [1471887930000, 19.99],\n  [1477680344000, 19.99],\n  [1477682138000, 9.99],\n  [1478034971000, 9.99],\n  [1478036747000, 19.99],\n  [1478253716000, 19.99],\n  [1478253717000, 13.39],\n  [1478556013000, 13.39],\n  [1478557256000, 19.99],\n  [1478636911000, 19.99],\n  [1479930481000, 19.99],\n  [1479932164000, 9.99],\n  [1480454163000, 9.99],\n  [1480455947000, 19.99],\n  [1482176744000, 19.99],\n  [1482178560000, 9.99],\n  [1483384610000, 9.99],\n  [1483386355000, 19.99],\n  [1490305533000, 19.99],\n  [1490307350000, 9.99],\n  [1490643938000, 9.99],\n  [1490645737000, 19.99],\n  [1498166146000, 19.99],\n  [1498167941000, 9.99],\n  [1499282199000, 9.99],\n  [1499283936000, 19.99],\n  [1502988337000, 19.99],\n  [1502990151000, 7.99],\n  [1503337542000, 7.99],\n  [1503339356000, 19.99],\n  [1509050737000, 19.99],\n  [1509052536000, 7.99],\n  [1509563774000, 7.99],\n  [1509565541000, 19.99],\n  [1511392549000, 19.99],\n  [1511394334000, 7.99],\n  [1511905538000, 7.99],\n  [1511907353000, 19.99],\n  [1513882023000, 19.99],\n  [1513883758000, 7.99],\n  [1515100566000, 7.99],\n  [1515102334000, 19.99],\n  [1528030609000, 19.99],\n  [1529604294000, 'NA'],\n  [1529604295000, 7.99],\n  [1530816748000, 7.99],\n  [1530818316000, 19.99],\n  [1531210835000, 19.99],\n  [1531210836000, 19.99],\n  [1533124703000, 19.99],\n  [1533125914000, 10.4],\n  [1533729280000, 10.4],\n  [1533730448000, 19.99],\n  [1537377021000, 19.99],\n  [1537379629000, 7.99],\n  [1537808717000, 7.99],\n  [1537818994000, 19.99],\n  [1540483938000, 19.99],\n  [1540484930000, 10.45],\n  [1540832610000, 10.45],\n  [1540864688000, 7.99],\n  [1541083424000, 7.99],\n  [1541084466000, 7.99],\n  [1541091575000, 7.99],\n  [1541093924000, 19.99],\n  [1542812973000, 19.99],\n  [1542814832000, 10.62],\n  [1542816188000, 10.62],\n  [1542835695000, 7.99],\n  [1543340481000, 7.99],\n  [1543356102000, 10.62],\n  [1543405699000, 10.62],\n  [1543407484000, 19.99],\n  [1545058782000, 19.99],\n  [1545059858000, 10.71],\n  [1545327838000, 10.71],\n  [1545346394000, 7.99],\n  [1545654414000, 7.99],\n  [1545659072000, 7.99],\n  [1546884770000, 7.99],\n  [1546890171000, 19.99],\n  [1551284182000, 19.99],\n  [1551285514000, 10.5],\n  [1551865412000, 10.5],\n  [1551866638000, 19.99],\n  [1561511021000, 19.99],\n  [1561517130000, 7.99],\n  [1562709773000, 7.99],\n  [1562714640000, 19.99],\n  [1565948132000, 19.99],\n  [1565949256000, 10.63],\n  [1567123168000, 10.63],\n  [1567124905000, 19.99],\n  [1568135724000, 19.99],\n  [1568136085000, 7.99],\n  [1568389958000, 7.99],\n  [1568395326000, 19.99],\n  [1568628284000, 19.99],\n  [1568628352000, 10.59],\n  [1569798085000, 10.59],\n  [1569801610000, 19.99],\n  [1572282582000, 19.99],\n  [1572285461000, 7.99],\n  [1572339773000, 7.99],\n  [1572341748000, 7.99],\n  [1572628171000, 7.99],\n  [1572629035000, 10.43],\n  [1572912219000, 10.43],\n  [1572912946000, 19.99],\n  [1574788014000, 19.99],\n  [1574791768000, 7.99],\n  [1574846758000, 7.99],\n  [1574847552000, 7.99],\n  [1575396554000, 7.99],\n  [1575397801000, 10.6],\n  [1575414531000, 10.6],\n  [1575417590000, 19.99],\n  [1576224566000, 19.99],\n  [1576483670000, 19.99],\n  [1576485634000, 10.51],\n  [1576775491000, 10.51],\n  [1576778947000, 7.99],\n  [1576797077000, 7.99],\n  [1576800542000, 7.99],\n  [1577664332000, 7.99],\n  [1577664741000, 7.99],\n  [1577988286000, 7.99],\n  [1577990312000, 10.49],\n  [1578009903000, 10.49],\n  [1578010464000, 19.99],\n  [1578873737000, 19.99],\n  [1579375805000, 19.99],\n  [1579375806000, 19.99],\n  [1579503729000, 19.99],\n  [1579510463000, 19.99],\n  [1579803331000, 19.99],\n  [1579804372000, 7.99],\n  [1579964688000, 7.99],\n  [1579969627000, 7.99],\n  [1580134768000, 7.99],\n  [1580135724000, 7.99],\n  [1580148821000, 7.99],\n  [1580149786000, 8.95],\n  [1580339086000, 8.95],\n  [1580340088000, 8.95],\n  [1581106208000, 8.95],\n  [1581107030000, 8.95],\n  [1581167051000, 8.95],\n  [1581171952000, 8.95],\n  [1581293168000, 8.95],\n  [1581294423000, 19.99],\n  [1581444392000, 19.99],\n  [1581445288000, 4.99],\n  [1581962891000, 4.99],\n  [1581963683000, 19.99],\n  [1583265980000, 19.99],\n  [1583270836000, 19.99],\n  [1583964098000, 19.99],\n  [1583966100000, 11.0097],\n  [1584353228000, 11.0097],\n  [1584355813000, 9.42],\n  [1584637609000, 9.42],\n  [1584638487000, 4.99],\n  [1584738415000, 4.99],\n  [1584744774000, 4.99],\n  [1585155715000, 4.99],\n  [1585160831000, 4.99],\n  [1585408393000, 4.99],\n  [1585412652000, 4.99],\n  [1585522932000, 4.99],\n  [1585523681000, 4.99],\n  [1585674244000, 4.99],\n  [1585675272000, 19.99],\n  [1586866605000, 19.99],\n  [1586870874000, 19.99],\n  [1587630127000, 19.99],\n  [1587631003000, 9.62],\n  [1588266740000, 9.62],\n  [1588267373000, 4.99],\n  [1588785297000, 4.99],\n  [1588785752000, 9.62],\n  [1588792036000, 9.62],\n  [1588796935000, 9.62],\n  [1588807134000, 9.62],\n  [1588810505000, 19.99],\n  [1588810584000, 19.99],\n  [1588811918000, 11.3171],\n  [1589238353000, 11.3171],\n  [1589240827000, 11.3171],\n  [1589501295000, 11.3171],\n  [1589502496000, 19.99],\n  [1589890541000, 19.99],\n  [1589958158000, 19.99],\n  [1589959412000, 19.99],\n  [1590071073000, 19.99],\n  [1590074890000, 19.99],\n  [1590585693000, 19.99],\n  [1590589728000, 19.99],\n  [1590981322000, 19.99],\n  [1590985375000, 19.99],\n  [1591139022000, 19.99],\n  [1591140329000, 19.99],\n  [1591290319000, 19.99],\n  [1591291271000, 4.99],\n  [1591424199000, 4.99],\n  [1591428294000, 4.99],\n  [1591661459000, 4.99],\n  [1591661460000, 4.99],\n  [1591794079000, 4.99],\n  [1591798708000, 4.99],\n  [1592241310000, 4.99],\n  [1592241686000, 19.99],\n  [1592464060000, 19.99],\n  [1592464336000, 10.8402],\n  [1593010807000, 10.8402],\n  [1593017576000, 10.852],\n  [1593101084000, 10.852],\n  [1593108098000, 4.99],\n  [1593155636000, 4.99],\n  [1593155898000, 4.99],\n  [1593756003000, 4.99],\n  [1593761080000, 4.99],\n  [1593875200000, 4.99],\n  [1593880117000, 4.99],\n  [1593972139000, 4.99],\n  [1593977277000, 4.99],\n  [1593982854000, 4.99],\n  [1593984406000, 4.99],\n  [1594113477000, 4.99],\n  [1594117131000, 4.99],\n  [1594307094000, 4.99],\n  [1594312179000, 4.99],\n  [1594315166000, 4.99],\n  [1594316069000, 10.8441],\n  [1594425806000, 10.8441],\n  [1594430546000, 10.8441],\n  [1594761251000, 10.8441],\n  [1594765702000, 10.8441],\n  [1594768815000, 10.8441],\n  [1594768935000, 10.8441],\n  [1595290953000, 10.8441],\n  [1595291358000, 10.8781],\n  [1595423578000, 10.8781],\n  [1595428065000, 10.7371],\n  [1595884588000, 10.7371],\n  [1595888875000, 10.6734],\n  [1595977314000, 10.6734],\n  [1595978619000, 19.99],\n  [1596089674000, 19.99],\n  [1596094302000, 19.99],\n  [1596742088000, 19.99],\n  [1596747192000, 19.99],\n  [1596848554000, 19.99],\n  [1596850337000, 10.695],\n  [1597748908000, 10.695],\n  [1597752194000, 10.5216],\n  [1598051457000, 10.5216],\n  [1598054983000, 10.5216],\n  [1598635411000, 10.5216],\n  [1598638969000, 10.5216],\n  [1598919506000, 10.5216],\n  [1598921420000, 19.99],\n  [1600363224000, 19.99],\n  [1600366891000, 4.99],\n  [1600708301000, 4.99],\n  [1600708978000, 19.99],\n  [1600968026000, 19.99],\n  [1600968126000, 4.99],\n  [1601309200000, 4.99],\n  [1601313680000, 19.99],\n  [1602671313000, 19.99],\n  [1603135505000, 19.99],\n  [1603143644000, 19.99],\n  [1603585215000, 19.99],\n  [1603586135000, 10.4874],\n  [1603703854000, 10.4874],\n  [1603706988000, 10.4874],\n  [1603729242000, 10.4874],\n  [1603735497000, 10.5272],\n  [1603987461000, 10.5272],\n  [1603991248000, 4.99],\n  [1604012531000, 4.99],\n  [1604068868000, 4.99],\n  [1604189298000, 4.99],\n  [1604190811000, 4.99],\n  [1604272114000, 4.99],\n  [1604273054000, 4.99],\n  [1604340761000, 4.99],\n  [1604341676000, 10.4309],\n  [1604620904000, 10.4309],\n  [1605282771000, 19.99],\n  [1605282772000, 19.99],\n  [1606324184000, 19.99],\n  [1606328840000, 4.99],\n  [1606385012000, 4.99],\n  [1606388574000, 4.99],\n  [1606432312000, 4.99],\n  [1606435240000, 4.99],\n  [1606439198000, 4.99],\n  [1606440330000, 4.99],\n  [1606446840000, 4.99],\n  [1606446950000, 4.99],\n  [1606846357000, 4.99],\n  [1606847049000, 5.8407],\n  [1606946991000, 5.8407],\n  [1606950420000, 6.0537],\n  [1607037125000, 6.0537],\n  [1607038841000, 6.4982],\n  [1607043642000, 6.4982],\n  [1607044207000, 19.99],\n  [1608506107000, 19.99],\n  [1608508826000, 6.3965],\n  [1608538075000, 6.3965],\n  [1608538344000, 5.7683],\n  [1608562822000, 5.7683],\n  [1608563140000, 5.7683],\n  [1608661017000, 5.7683],\n  [1608662049000, 4.99],\n  [1609714813000, 4.99],\n  [1609715188000, 4.99],\n  [1609715743000, 4.99],\n  [1609716338000, 4.99],\n  [1609869777000, 4.99],\n  [1609872585000, 19.99],\n  [1610586108000, 19.99],\n  [1610586310000, 6.3323],\n  [1610960541000, 6.3323],\n  [1610963491000, 5.7443],\n  [1611252350000, 5.7443],\n  [1611253277000, 4.99],\n  [1611597936000, 4.99],\n  [1611598886000, 5.7443],\n  [1611795921000, 5.7443],\n  [1611797115000, 5.7443],\n  [1611874917000, 5.7443],\n  [1611875727000, 5.7443],\n  [1611947243000, 5.7443],\n  [1611948928000, 5.7443],\n  [1612137734000, 5.7443],\n  [1612138899000, 5.952],\n  [1613066645000, 5.952],\n  [1613069951000, 4.99],\n  [1613085063000, 4.99],\n  [1613086538000, 4.99],\n  [1613412456000, 4.99],\n  [1613413380000, 19.99],\n  [1614561032000, 19.99],\n  [1614561306000, 6.335],\n  [1614582405000, 6.335],\n  [1614584812000, 5.6999],\n  [1614899010000, 5.6999],\n  [1614899462000, 5.6999],\n  [1614956866000, 5.6999],\n  [1614957041000, 5.6999],\n  [1615763554000, 5.6999],\n  [1615766783000, 5.8927],\n  [1615767026000, 5.8927],\n  [1615767605000, 5.8927],\n  [1616108500000, 5.8927],\n  [1616111724000, 19.99],\n  [1618333714000, 19.99],\n  [1618334298000, 4.99],\n  [1618938744000, 4.99],\n  [1618939159000, 19.99],\n  [1619129484000, 19.99],\n  [1619132720000, 6.2523],\n  [1619175778000, 6.2523],\n  [1619178626000, 5.8072],\n  [1619395236000, 5.8072],\n  [1619396711000, 5.8072],\n  [1619431883000, 5.8072],\n  [1619433668000, 5.5922],\n  [1619957344000, 5.5922],\n  [1619957532000, 5.5922],\n  [1619957610000, 5.5922],\n  [1619984743000, 6.1337],\n  [1619984809000, 5.7157],\n  [1619985143000, 5.5191],\n  [1620338413000, 5.5191],\n  [1620340516000, 5.5191],\n  [1620529533000, 5.5191],\n  [1620531404000, 5.4489],\n  [1620604941000, 5.4489],\n  [1620605362000, 6.1337],\n  [1620605776000, 19.99],\n  [1620606009000, 19.99],\n  [1621440862000, 19.99],\n  [1621441536000, 19.99],\n  [1622012707000, 19.99],\n  [1622013615000, 19.99],\n  [1622506037000, 19.99],\n  [1622506517000, 6.0185],\n  [1623654058000, 6.0185],\n  [1623658036000, 5.8942],\n  [1623715236000, 5.8942],\n  [1623716109000, 5.8942],\n  [1623855724000, 5.8942],\n  [1623881410000, 5.8942],\n  [1623881652000, 5.8942],\n  [1623883223000, 5.8942],\n  [1623924357000, 5.8942],\n  [1623925825000, 5.7168],\n  [1624554068000, 5.7168],\n  [1624561114000, 4.99],\n  [1624834854000, 4.99],\n  [1624838805000, 4.99],\n  [1625090465000, 4.99],\n  [1625090914000, 4.99],\n  [1625091313000, 4.99],\n  [1625093423000, 4.99],\n  [1626854741000, 4.99],\n  [1626856618000, 4.99],\n  [1626886991000, 4.99],\n  [1626887912000, 5.9266],\n  [1627071024000, 5.9266],\n  [1627071910000, 5.9266],\n  [1628031710000, 5.9266],\n  [1628035290000, 19.99],\n  [1629494047000, 19.99],\n  [1629496894000, 19.99],\n  [1629497118000, 6.2926],\n  [1629500123000, 6.2926],\n  [1629806696000, 6.2926],\n  [1629807949000, 5.922],\n  [1630393778000, 5.922],\n  [1630395112000, 5.6358],\n  [1630616504000, 5.6358],\n  [1630620724000, 5.6358],\n  [1630620908000, 5.6358],\n  [1630621520000, 5.6358],\n  [1631491459000, 5.6358],\n  [1631491545000, 19.99],\n  [1631916109000, 19.99],\n  [1631919661000, 6.3838],\n  [1632493561000, 6.3838],\n  [1632497727000, 5.9001],\n  [1633039952000, 5.9001],\n  [1633041318000, 19.99],\n  [1634746048000, 19.99],\n  [1634749936000, 4.99],\n  [1635790126000, 4.99],\n  [1635792572000, 19.99],\n  [1637766297000, 19.99],\n  [1637770857000, 5.7306],\n  [1637773679000, 5.7306],\n  [1637777451000, 4.99],\n  [1638314679000, 4.99],\n  [1638317771000, 4.99],\n  [1638389823000, 4.99],\n  [1638391851000, 19.99],\n  [1639696007000, 19.99],\n  [1639696027000, 19.99],\n  [1639696816000, 6.3747],\n  [1639696844000, 6.3747],\n  [1640091649000, 6.3747],\n  [1640093452000, 5.4198],\n  [1640193953000, 5.4198],\n  [1640197614000, 4.99],\n  [1640905236000, 4.99],\n  [1640905394000, 4.99],\n  [1640906705000, 4.99],\n  [1640906745000, 4.99],\n  [1641254809000, 4.99],\n  [1641255341000, 4.99],\n  [1641406039000, 4.99],\n  [1641407322000, 19.99],\n  [1643202086000, 19.99],\n  [1643204544000, 5.4725],\n  [1643307978000, 5.4725],\n  [1643308578000, 4.99],\n  [1643912161000, 4.99],\n  [1643914535000, 5.4725],\n  [1644361890000, 5.4725],\n  [1644364829000, 19.99],\n  [1644692529000, 19.99],\n  [1644692625000, 19.99],\n  [1644694598000, 19.99],\n  [1644694858000, 19.99],\n  [1646258447000, 19.99],\n  [1646259176000, 19.99],\n  [1646259192000, 19.99],\n  [1646259312000, 19.99],\n  [1646259397000, 19.99],\n  [1646259479000, 19.99],\n  [1646600806000, 19.99],\n  [1646601107000, 23.3542],\n  [1646601317000, 23.3542],\n  [1646601375000, 25.2488]],\n 'steam.name': 'NieR:Automata™',\n 'steam.steam_appid': 524220,\n 'steam.required_age': 0,\n 'steam.is_free': False,\n 'steam.dlc': 1,\n 'steam.detailed_description': '<h1>NieR:Automata™ Game of the YoRHa Edition</h1><p><img src=\"https://cdn.cloudflare.steamstatic.com/steam/apps/524220/extras/Nier-GOTY-Steam-EN.jpg?t=1624266255\" /><br>The NieR:Automata™ Game of the YoRHa Edition includes the game itself and comes packed with DLC and bonus content for the full experience of the award-winning post-apocalyptic action RPG, including:<br><br><ul class=\"bb_ul\"><li>3C3C1D119440927 DLC*<br></li><li>Valve Character Accessory<br></li><li>Cardboard Pod Skin<br></li><li>Retro Grey Pod Skin<br></li><li>Retro Red Pod Skin<br></li><li>Grimoire Weiss Pod<br></li><li>Machine Mask Accessory<br></li><li>Exclusive set of wallpapers in the following sizes: 1024 x 768, 1280 x 1024, 1920 x 1080, 2560 x 1600</li></ul><br>*To enjoy this content you will need to have progressed a certain way into the main story of the game. There are also some scenes during the progression of the main game scenario in which this content cannot be accessed.</p><br><h1>Featured DLC</h1><p><img src=\"https://cdn.cloudflare.steamstatic.com/steam/apps/524220/extras/PromoBanner_616x389_en.png?t=1624266255\" /><br>The NieR: Automata 3C3C1D119440927 DLC is out now and includes three new colosseums to challenge, plus additional sub-quests. Upon completion of these quests, players can earn various rewards including new costumes from NieR: Replicant, new equipment and cosmetic accessories such as masks, hairspray that change the color of your character, records that add special music tracks to the players’ jukebox and much more!</p><br><h1>Reviews &amp; Accolades</h1><p>9/10 <i>&quot;Don’t miss this&quot;</i> – <a href=\"https://steamcommunity.com/linkfilter/?url=https://www.videogamer.com/reviews/nier-automata-review\" target=\"_blank\" rel=\"noopener\"  >VideoGamer</a><br><br>10/10 <i>&quot;One of the best games I’ve ever played&quot;</i> – <a href=\"https://steamcommunity.com/linkfilter/?url=http://www.rpgsite.net/review/5372-nier-automata-review\" target=\"_blank\" rel=\"noopener\"  >RPGSite</a><br><br>4/5 <i>&quot;Pure genius&quot;</i> – <a href=\"https://steamcommunity.com/linkfilter/?url=http://www.trustedreviews.com/nier-automata-review\" target=\"_blank\" rel=\"noopener\"  >Trusted Reviews</a><br><br>9/10 <i>&quot;One of the most interesting and unique games you’ll play this year&quot;</i> – <a href=\"https://steamcommunity.com/linkfilter/?url=http://www.godisageek.com/reviews/nier-automata-review\" target=\"_blank\" rel=\"noopener\"  >God is a Geek</a><br><br>9/10 <i>&quot;Classic Platinum action combined with a deep role-playing system&quot;</i> – <a href=\"https://steamcommunity.com/linkfilter/?url=http://metro.co.uk/2017/03/06/nier-automata-review-bullet-hell-meets-existential-role-player-6491251/\" target=\"_blank\" rel=\"noopener\"  >Metro</a></p><br><h1>About the Game</h1><a href=\"https://store.steampowered.com/app/1113560/NieR_Replicant_ver122474487139/\" target=\"_blank\" rel=\"noreferrer\"  id=\"dynamiclink_0\" >https://store.steampowered.com/app/1113560/NieR_Replicant_ver122474487139/</a><br><br><img src=\"https://cdn.cloudflare.steamstatic.com/steam/apps/524220/extras/Nier_PRE_Launch-ENG_UK_Multi_06_Mod.jpg?t=1624266255\" /><br>NieR: Automata tells the story of androids 2B, 9S and A2 and their battle to reclaim the machine-driven dystopia overrun by powerful machines.<br><br>Humanity has been driven from the Earth by mechanical beings from another world. In a final effort to take back the planet, the human resistance sends a force of android soldiers to destroy the invaders. Now, a war between machines and androids rages on... A war that could soon unveil a long-forgotten truth of the world.<br><br>Key Features:<br><ul class=\"bb_ul\"><li><strong>Action-Packed Battles</strong> – Players will switch between using melee and ranged attacks in battle against hordes of enemies and challenging bosses across a variety of open field maps. The tight controls and incredibly fluid combat are simple to learn for newcomers while offering plenty of depth for more experienced action gamers. Players can perform high-speed battle actions—combining light and heavy attacks—and switch through an arsenal of weaponry while evading enemies with speed and style. <br></li><li><strong>Beautifully Desolate Open-World</strong> – The game seamlessly joins together hauntingly beautiful vistas and locations with no area loading. The environments are rendered in 60fps and contain a wealth of sub-events in addition to the main storyline. <br></li><li><strong>Masterfully Crafted Story and Characters</strong> – NieR: Automata tells the story of androids 2B, 9S and A2 and their ferocious battle to reclaim a machine-driven dystopia overrun by powerful weapons known as machine lifeforms.<br></li><li><strong>Elements of an RPG</strong> – Players will obtain a variety of weapon types, level up in battle, learn new combat skills, and customise a loadout that caters to their playstyle.<br></li><li><strong>Utilise the Pod Support System to Assist In and Outside of Battle</strong> – Pods can attack the enemy in both manual and lock-on modes. They can also assist outside of battle, such as allowing the player to glide through the air. Pods can be enhanced throughout the game, with upgrades including new attack methods and variations.<br></li><li><strong>“Auto Mode” Available for Beginners </strong>– Novice players can elect “Auto Mode” for easy attacks and evasions.</li></ul>',\n 'steam.about_the_game': '<a href=\"https://store.steampowered.com/app/1113560/NieR_Replicant_ver122474487139/\" target=\"_blank\" rel=\"noreferrer\"  id=\"dynamiclink_1\" >https://store.steampowered.com/app/1113560/NieR_Replicant_ver122474487139/</a><br><br><img src=\"https://cdn.cloudflare.steamstatic.com/steam/apps/524220/extras/Nier_PRE_Launch-ENG_UK_Multi_06_Mod.jpg?t=1624266255\" /><br>NieR: Automata tells the story of androids 2B, 9S and A2 and their battle to reclaim the machine-driven dystopia overrun by powerful machines.<br><br>Humanity has been driven from the Earth by mechanical beings from another world. In a final effort to take back the planet, the human resistance sends a force of android soldiers to destroy the invaders. Now, a war between machines and androids rages on... A war that could soon unveil a long-forgotten truth of the world.<br><br>Key Features:<br><ul class=\"bb_ul\"><li><strong>Action-Packed Battles</strong> – Players will switch between using melee and ranged attacks in battle against hordes of enemies and challenging bosses across a variety of open field maps. The tight controls and incredibly fluid combat are simple to learn for newcomers while offering plenty of depth for more experienced action gamers. Players can perform high-speed battle actions—combining light and heavy attacks—and switch through an arsenal of weaponry while evading enemies with speed and style. <br></li><li><strong>Beautifully Desolate Open-World</strong> – The game seamlessly joins together hauntingly beautiful vistas and locations with no area loading. The environments are rendered in 60fps and contain a wealth of sub-events in addition to the main storyline. <br></li><li><strong>Masterfully Crafted Story and Characters</strong> – NieR: Automata tells the story of androids 2B, 9S and A2 and their ferocious battle to reclaim a machine-driven dystopia overrun by powerful weapons known as machine lifeforms.<br></li><li><strong>Elements of an RPG</strong> – Players will obtain a variety of weapon types, level up in battle, learn new combat skills, and customise a loadout that caters to their playstyle.<br></li><li><strong>Utilise the Pod Support System to Assist In and Outside of Battle</strong> – Pods can attack the enemy in both manual and lock-on modes. They can also assist outside of battle, such as allowing the player to glide through the air. Pods can be enhanced throughout the game, with upgrades including new attack methods and variations.<br></li><li><strong>“Auto Mode” Available for Beginners </strong>– Novice players can elect “Auto Mode” for easy attacks and evasions.</li></ul>',\n 'steam.short_description': 'NieR: Automata tells the story of androids 2B, 9S and A2 and their battle to reclaim the machine-driven dystopia overrun by powerful machines.',\n 'steam.supported_languages': 'english french italian german spanish  spain japanese',\n 'steam.reviews': True,\n 'steam.pc_requirements': True,\n 'steam.mac_requirements': False,\n 'steam.linux_requirements': False,\n 'steam.developers': ['Square Enix', 'PlatinumGames Inc.'],\n 'steam.categories_description': ['Single-player',\n  'Steam Achievements',\n  'Steam Trading Cards',\n  'Partial Controller Support',\n  'Steam Cloud',\n  'Remote Play on Phone',\n  'Remote Play on Tablet'],\n 'steam.genres_description': ['Action', 'RPG'],\n 'steam.controller_support': False,\n 'steam.metacritic.score': 0.866,\n 'steam.drm_consolidated_CrackProof': 0,\n 'steam.drm_consolidated_Denuvo': 0,\n 'steam.drm_consolidated_EA': 0,\n 'steam.drm_consolidated_Games for Windows Live': 0,\n 'steam.drm_consolidated_GameShield': 0,\n 'steam.drm_consolidated_Kalypso': 0,\n 'steam.drm_consolidated_SecuROM': 0,\n 'steam.drm_consolidated_Ubisoft': 0,\n 'steam.drm_consolidated_NA': 1}"
     },
     "execution_count": 3,
     "metadata": {},
     "output_type": "execute_result"
    }
   ],
   "source": [
    "# Sample of what the input data looks like\n",
    "allData[0]"
   ],
   "metadata": {
    "collapsed": false,
    "pycharm": {
     "name": "#%%\n"
    }
   }
  },
  {
   "cell_type": "code",
   "execution_count": 4,
   "outputs": [],
   "source": [
    "allCategoriesSet = set()\n",
    "allGenresSet = set()\n",
    "\n",
    "for game in allData:\n",
    "    allCategoriesSet.update(game['steam.categories_description'])\n",
    "    allGenresSet.update(game['steam.genres_description'])\n",
    "\n",
    "allCategories = sorted(allCategoriesSet)\n",
    "allGenres = sorted(allGenresSet)"
   ],
   "metadata": {
    "collapsed": false,
    "pycharm": {
     "name": "#%%\n"
    }
   }
  },
  {
   "cell_type": "code",
   "execution_count": 5,
   "outputs": [
    {
     "name": "stdout",
     "output_type": "stream",
     "text": [
      "Game 0/2227\n",
      "Game 100/2227\n",
      "Game 200/2227\n",
      "Game 300/2227\n",
      "Game 400/2227\n",
      "Game 500/2227\n",
      "Game 600/2227\n",
      "Game 700/2227\n",
      "Game 800/2227\n",
      "Game 900/2227\n",
      "Game 1000/2227\n",
      "Game 1100/2227\n",
      "Game 1200/2227\n",
      "Game 1300/2227\n",
      "Game 1400/2227\n",
      "Game 1500/2227\n",
      "Game 1600/2227\n",
      "Game 1700/2227\n",
      "Game 1800/2227\n",
      "Game 1900/2227\n",
      "Game 2000/2227\n",
      "Game 2100/2227\n",
      "Game 2200/2227\n"
     ]
    }
   ],
   "source": [
    "from copy import copy\n",
    "from vaderSentiment.vaderSentiment import SentimentIntensityAnalyzer\n",
    "from datetime import datetime, timezone, timedelta, date\n",
    "\n",
    "analyzer = SentimentIntensityAnalyzer()\n",
    "# We consider all types of spanish (spain, brazil) the same. This is because there are many ways to phrase it, and it is hard to clean.\n",
    "\n",
    "SUPPORTED_LANGUAGES = ['english', 'french', 'german', 'dutch', 'czech', 'hungarian', 'italian', 'japanese', 'polish', 'bulgarian', 'danish', 'spanish', 'finnish', 'greek', 'korean', 'norwegian', 'portuguese', 'romanian', 'russian', 'simplified chinese', 'traditional chinese', 'swedish', 'thai', 'turkish', 'ukrainian', 'vietnamese', 'arabic']\n",
    "\n",
    "def cleanup_data(game):\n",
    "    \"\"\"\n",
    "    Takes a single game object, and 1-hot encodes:\n",
    "      - Supported Languages\n",
    "      - Genres description\n",
    "      - Categories description\n",
    "    and runs sentiment analysis on:\n",
    "      - short description\n",
    "      - detailed description\n",
    "      - about the game\n",
    "    :param game:\n",
    "    :return:\n",
    "    \"\"\"\n",
    "    # Clone the data so we can run this multiple times on the same data\n",
    "    flattened_game = copy(game)\n",
    "\n",
    "    # Languages\n",
    "    lang_str = flattened_game[\"steam.supported_languages\"]\n",
    "    for language in SUPPORTED_LANGUAGES:\n",
    "        attrib_name = f\"steam.supported_languages.{language.replace(' ', '_')}\".lower()\n",
    "        if language in lang_str:\n",
    "            flattened_game[attrib_name] = 1\n",
    "        else:\n",
    "            flattened_game[attrib_name] = 0\n",
    "    flattened_game.pop('steam.supported_languages', None)\n",
    "\n",
    "    # Genres\n",
    "    for genre in allGenres:\n",
    "        attrib_name = f\"steam.genres.{genre.replace(' ', '_')}\".lower()\n",
    "        if genre in flattened_game['steam.genres_description']:\n",
    "            flattened_game[attrib_name] = 1\n",
    "        else:\n",
    "            flattened_game[attrib_name] = 0\n",
    "    flattened_game.pop('steam.genres_description', None)\n",
    "\n",
    "    # Categories\n",
    "    # 'steam.categories_description'\n",
    "    for category in allCategories:\n",
    "        attrib_name = f\"steam.categories.{category.replace(' ', '_')}\".lower()\n",
    "        if category in flattened_game['steam.categories_description']:\n",
    "            flattened_game[attrib_name] = 1\n",
    "        else:\n",
    "            flattened_game[attrib_name] = 0\n",
    "    flattened_game.pop('steam.categories_description', None)\n",
    "\n",
    "    # Too many developers are unique. Let's try to simplify it a bit and just count the number of devs.\n",
    "    flattened_game['steam.developers'] = len(flattened_game['steam.developers'])\n",
    "\n",
    "\n",
    "    # Replace the 'steam.detailed_description', 'steam.about_the_game', 'steam.short_description' with their sentiment analysis\n",
    "    # {'neg': 0.11, 'neu': 0.803, 'pos': 0.087, 'compound': -0.8976}\n",
    "    LONG_FORM_TEXT_ATTRIBS = ['steam.detailed_description', 'steam.about_the_game', 'steam.short_description']\n",
    "    SENTIMENT_OPTIONS = ['neg', 'neu', 'pos', 'compound']\n",
    "    for attrib in LONG_FORM_TEXT_ATTRIBS:\n",
    "        analysis = analyzer.polarity_scores(flattened_game[attrib])\n",
    "        for sentiment in SENTIMENT_OPTIONS:\n",
    "            flattened_game[f\"{attrib}.{sentiment}\"] = analysis[sentiment]\n",
    "        flattened_game.pop(attrib, None)\n",
    "\n",
    "\n",
    "    return flattened_game\n",
    "\n",
    "def get_steam_sale_date_set():\n",
    "    # We only consider steam sales from https://steamdb.info/sales/history/ that are likely to affect many games\n",
    "    # These are things like the annual lunar, spring, summer, autumn, halloween, winter sales if they are present (varies slightly by year).\n",
    "    # This means we leave out end of year awards sales, and niche genre sales (e.g. VR, Polish independence, Golden week) because those sales do not repeat or only affect a small subset of games.\n",
    "    STEAM_SALE_DATES = [\n",
    "        # [Y,M,D,Duration(days)]\n",
    "        [2016,6,23,11],\n",
    "        [2016,10,28,4],\n",
    "        [2016,11,23,6],\n",
    "        [2016,12,22,11],\n",
    "        [2017,6,22,13],\n",
    "        [2017,10,26,6],\n",
    "        [2017,11,22,6],\n",
    "        [2017,12,21,14],\n",
    "        [2018,2,15,4],\n",
    "        [2018,5,24,4],\n",
    "        [2018,6,21,14],\n",
    "        [2018,10,29,3],\n",
    "        [2018,11,21,6],\n",
    "        [2018,12,20,14],\n",
    "        [2019,2,4,7],\n",
    "        [2019,5,24,4],\n",
    "        [2019,6,25,14],\n",
    "        [2019,10,28,4],\n",
    "        [2019,11,26,7],\n",
    "        [2019,12,19,14],\n",
    "        [2020,1,23,4],\n",
    "        [2020,5,21,7],\n",
    "        [2020,6,25,14],\n",
    "        [2020,10,29,4],\n",
    "        [2020,11,25,6],\n",
    "        [2020,12,22,14],\n",
    "        [2021,2,11,4],\n",
    "        [2021,6,24,14],\n",
    "        [2021,10,28,4],\n",
    "        [2021,12,22,14],\n",
    "        [2022,1,27,7],\n",
    "    ]\n",
    "    # Use a set for constant r/w speed\n",
    "    saleDates = set()\n",
    "\n",
    "    for sale in STEAM_SALE_DATES:\n",
    "        [y, m, d, duration] = sale\n",
    "        saleDate = date(y, m, d)\n",
    "        for i in range(0, duration):\n",
    "            saleDates.add(saleDate)\n",
    "            saleDate += timedelta(days=1)\n",
    "\n",
    "    return saleDates\n",
    "\n",
    "saleDates = get_steam_sale_date_set()\n",
    "\n",
    "\n",
    "# Pass in allData here\n",
    "def find_day_range_and_preprocess(data):\n",
    "    \"\"\"\n",
    "    I want it to be able to detect Data that is:\n",
    "        - seasonal (steam sales)\n",
    "        - price decreases after a long time (would this be a trend?)\n",
    "        - absolute time\n",
    "        - based off of the game's attributes\n",
    "    This means, my data should probably have:\n",
    "        - days since launch column\n",
    "        - isSteamSale (dates from https://steamdb.info/sales/history/)\n",
    "        - Year\n",
    "        - Month\n",
    "        - Day\n",
    "        - Add column for % of launch price. This might be more effective at predicting instead of raw number.\n",
    "\n",
    "    :param data:\n",
    "    :return:\n",
    "    \"\"\"\n",
    "\n",
    "    daysSet = set()\n",
    "    timesSet = set()\n",
    "    timestamps = set()\n",
    "    for game_obj in data:\n",
    "        sales = game_obj['itad.sales']\n",
    "        timestamps.update([row[0] for row in sales])\n",
    "\n",
    "    for timestamp in timestamps:\n",
    "        dt_val = datetime.fromtimestamp(int(timestamp) / 1000,tz=timezone.utc)\n",
    "        timesSet.add(dt_val.time())\n",
    "        daysSet.add(dt_val.date())\n",
    "\n",
    "    return\n",
    "\n",
    "def forward_fill_sales(game):\n",
    "    sales = game['itad.sales']\n",
    "    eachDayRecord = []\n",
    "    [releaseTimestamp, releasePrice] = sales[0]\n",
    "\n",
    "    # Will never be affected by daylight savings or leap things.\n",
    "    releaseDt = datetime.fromtimestamp(int(releaseTimestamp) / 1000,tz=timezone.utc).replace(hour=0, minute=30, second=0, microsecond=0)\n",
    "    workingDay = releaseDt\n",
    "    # Fill out stuff until the last day's price change\n",
    "    for sale in sales:\n",
    "        [saleTimestamp, salePrice] = sale\n",
    "        saleTimestamp /= 1000\n",
    "        # some data is bad\n",
    "        if salePrice == 'NA':\n",
    "            continue\n",
    "        while workingDay.timestamp() <= saleTimestamp:\n",
    "            eachDayRecord.append({\n",
    "                'timestamp': workingDay.timestamp(),\n",
    "                'year': workingDay.year,\n",
    "                'month': workingDay.month,\n",
    "                'day': workingDay.day,\n",
    "                'daysSinceLaunch': (workingDay - releaseDt).days,\n",
    "                'price': salePrice,\n",
    "                'percentOfReleasePrice': salePrice / releasePrice,\n",
    "                'isSteamSale':  workingDay.date() in saleDates,\n",
    "            })\n",
    "\n",
    "            # move 1 day into the future, then set the time to 12:30 AM\n",
    "            workingDay += timedelta(days=1)\n",
    "            workingDay = workingDay.replace(hour=0, minute=30, second=0, microsecond=0)\n",
    "    # Due to the way the data was scraped, there is no need to forward fill.\n",
    "    return eachDayRecord\n",
    "\n",
    "\n",
    "cleanData = []\n",
    "numGames = len(allData)\n",
    "for ind, game in enumerate(allData):\n",
    "    if ind % 100 == 0:\n",
    "        print(f\"Game {ind}/{numGames}\")\n",
    "    modified_game = cleanup_data(game)\n",
    "    modified_game['itad.sales'] = forward_fill_sales(modified_game)\n",
    "    cleanData.append(modified_game)\n",
    "\n",
    "\n"
   ],
   "metadata": {
    "collapsed": false,
    "pycharm": {
     "name": "#%%\n"
    }
   }
  },
  {
   "cell_type": "code",
   "execution_count": 6,
   "outputs": [],
   "source": [
    "\n",
    "\n",
    "# We use an off the shelf sentiment analysis since this may play a part in predicting the price, but I kinda doubt it.\n",
    "# Putting this here in case it actually does.\n",
    "\n",
    "# with open('cleanDataReadable.json', 'w', encoding='utf-8') as f:\n",
    "#     json.dump(cleanData, f, ensure_ascii=False, indent=4)\n",
    "#\n",
    "# with open('cleanData.json', 'w', encoding='utf-8') as f:\n",
    "#     json.dump(cleanData, f, ensure_ascii=False)"
   ],
   "metadata": {
    "collapsed": false,
    "pycharm": {
     "name": "#%%\n"
    }
   }
  },
  {
   "cell_type": "code",
   "execution_count": 7,
   "outputs": [
    {
     "data": {
      "text/plain": "dict_keys(['steamId', 'itadPlain', 'itad.position', 'itad.rank', 'itad.sales', 'steam.name', 'steam.steam_appid', 'steam.required_age', 'steam.is_free', 'steam.dlc', 'steam.reviews', 'steam.pc_requirements', 'steam.mac_requirements', 'steam.linux_requirements', 'steam.developers', 'steam.controller_support', 'steam.metacritic.score', 'steam.drm_consolidated_CrackProof', 'steam.drm_consolidated_Denuvo', 'steam.drm_consolidated_EA', 'steam.drm_consolidated_Games for Windows Live', 'steam.drm_consolidated_GameShield', 'steam.drm_consolidated_Kalypso', 'steam.drm_consolidated_SecuROM', 'steam.drm_consolidated_Ubisoft', 'steam.drm_consolidated_NA', 'steam.supported_languages.english', 'steam.supported_languages.french', 'steam.supported_languages.german', 'steam.supported_languages.dutch', 'steam.supported_languages.czech', 'steam.supported_languages.hungarian', 'steam.supported_languages.italian', 'steam.supported_languages.japanese', 'steam.supported_languages.polish', 'steam.supported_languages.bulgarian', 'steam.supported_languages.danish', 'steam.supported_languages.spanish', 'steam.supported_languages.finnish', 'steam.supported_languages.greek', 'steam.supported_languages.korean', 'steam.supported_languages.norwegian', 'steam.supported_languages.portuguese', 'steam.supported_languages.romanian', 'steam.supported_languages.russian', 'steam.supported_languages.simplified_chinese', 'steam.supported_languages.traditional_chinese', 'steam.supported_languages.swedish', 'steam.supported_languages.thai', 'steam.supported_languages.turkish', 'steam.supported_languages.ukrainian', 'steam.supported_languages.vietnamese', 'steam.supported_languages.arabic', 'steam.genres.action', 'steam.genres.adventure', 'steam.genres.animation_&_modeling', 'steam.genres.casual', 'steam.genres.design_&_illustration', 'steam.genres.early_access', 'steam.genres.education', 'steam.genres.free_to_play', 'steam.genres.game_development', 'steam.genres.gore', 'steam.genres.indie', 'steam.genres.massively_multiplayer', 'steam.genres.nudity', 'steam.genres.photo_editing', 'steam.genres.rpg', 'steam.genres.racing', 'steam.genres.simulation', 'steam.genres.software_training', 'steam.genres.sports', 'steam.genres.strategy', 'steam.genres.utilities', 'steam.genres.video_production', 'steam.genres.violent', 'steam.genres.web_publishing', 'steam.categories.captions_available', 'steam.categories.co-op', 'steam.categories.commentary_available', 'steam.categories.cross-platform_multiplayer', 'steam.categories.full_controller_support', 'steam.categories.in-app_purchases', 'steam.categories.includes_source_sdk', 'steam.categories.includes_level_editor', 'steam.categories.lan_co-op', 'steam.categories.lan_pvp', 'steam.categories.mmo', 'steam.categories.multi-player', 'steam.categories.online_co-op', 'steam.categories.online_pvp', 'steam.categories.partial_controller_support', 'steam.categories.pvp', 'steam.categories.remote_play_together', 'steam.categories.remote_play_on_phone', 'steam.categories.remote_play_on_tv', 'steam.categories.remote_play_on_tablet', 'steam.categories.shared/split_screen', 'steam.categories.shared/split_screen_co-op', 'steam.categories.shared/split_screen_pvp', 'steam.categories.single-player', 'steam.categories.stats', 'steam.categories.steam_achievements', 'steam.categories.steam_cloud', 'steam.categories.steam_leaderboards', 'steam.categories.steam_trading_cards', 'steam.categories.steam_turn_notifications', 'steam.categories.steam_workshop', 'steam.categories.steamvr_collectibles', 'steam.categories.vr_support', 'steam.categories.valve_anti-cheat_enabled', 'steam.detailed_description.neg', 'steam.detailed_description.neu', 'steam.detailed_description.pos', 'steam.detailed_description.compound', 'steam.about_the_game.neg', 'steam.about_the_game.neu', 'steam.about_the_game.pos', 'steam.about_the_game.compound', 'steam.short_description.neg', 'steam.short_description.neu', 'steam.short_description.pos', 'steam.short_description.compound'])"
     },
     "execution_count": 7,
     "metadata": {},
     "output_type": "execute_result"
    }
   ],
   "source": [
    "# Everything has standardized keys. let's list them all.\n",
    "keys = cleanData[0].keys()\n",
    "keys"
   ],
   "metadata": {
    "collapsed": false,
    "pycharm": {
     "name": "#%%\n"
    }
   }
  },
  {
   "cell_type": "code",
   "execution_count": 8,
   "outputs": [
    {
     "name": "stdout",
     "output_type": "stream",
     "text": [
      "Game 0/2227\n",
      "Game 50/2227\n",
      "Game 100/2227\n",
      "Game 150/2227\n",
      "Game 200/2227\n",
      "Game 250/2227\n",
      "Game 300/2227\n",
      "Game 350/2227\n",
      "Game 400/2227\n",
      "Game 450/2227\n",
      "Game 500/2227\n",
      "Game 550/2227\n",
      "Game 600/2227\n",
      "Game 650/2227\n",
      "Game 700/2227\n",
      "Game 750/2227\n",
      "Game 800/2227\n",
      "Game 850/2227\n",
      "Game 900/2227\n",
      "Game 950/2227\n",
      "Game 1000/2227\n",
      "Game 1050/2227\n",
      "Game 1100/2227\n",
      "Game 1150/2227\n",
      "Game 1200/2227\n",
      "Game 1250/2227\n",
      "Game 1300/2227\n",
      "Game 1350/2227\n",
      "Game 1400/2227\n",
      "Game 1450/2227\n",
      "Game 1500/2227\n",
      "Game 1550/2227\n",
      "Game 1600/2227\n",
      "Game 1650/2227\n",
      "Game 1700/2227\n",
      "Game 1750/2227\n",
      "Game 1800/2227\n",
      "Game 1850/2227\n",
      "Game 1900/2227\n",
      "Game 1950/2227\n",
      "Game 2000/2227\n",
      "Game 2050/2227\n",
      "Game 2100/2227\n",
      "Game 2150/2227\n",
      "Game 2200/2227\n"
     ]
    }
   ],
   "source": [
    "import csv\n",
    "\n",
    "# These will be our columns.\n",
    "with open('data.csv', 'w', newline='', encoding='utf-8') as csvfile:\n",
    "    fieldnames = list(cleanData[0].keys())\n",
    "    fieldnames.remove('itad.sales')\n",
    "    fieldnames.extend(['steam.ext_user_account_notice', 'timestamp', 'year', 'month', 'day', 'daysSinceLaunch', 'price', 'percentOfReleasePrice', 'isSteamSale'])\n",
    "\n",
    "    writer = csv.DictWriter(csvfile, fieldnames=fieldnames)\n",
    "    writer.writeheader()\n",
    "\n",
    "    dataLen = len(cleanData)\n",
    "    for ind, data in enumerate(cleanData):\n",
    "        if ind % 50 == 0:\n",
    "            print(f\"Game {ind}/{dataLen}\")\n",
    "        try:\n",
    "            for day in data['itad.sales']:\n",
    "                modified_data = copy(data)\n",
    "                modified_data.pop('itad.sales', None)\n",
    "                writer.writerow({'steam.ext_user_account_notice': False, 'steam.metacritic.score': -1, **modified_data, **day})\n",
    "        except:\n",
    "            print(\"Error on: \", data)"
   ],
   "metadata": {
    "collapsed": false,
    "pycharm": {
     "name": "#%%\n"
    }
   }
  },
  {
   "cell_type": "code",
   "execution_count": 8,
   "outputs": [],
   "source": [],
   "metadata": {
    "collapsed": false,
    "pycharm": {
     "name": "#%%\n"
    }
   }
  }
 ],
 "metadata": {
  "kernelspec": {
   "display_name": "Python 3",
   "language": "python",
   "name": "python3"
  },
  "language_info": {
   "codemirror_mode": {
    "name": "ipython",
    "version": 2
   },
   "file_extension": ".py",
   "mimetype": "text/x-python",
   "name": "python",
   "nbconvert_exporter": "python",
   "pygments_lexer": "ipython2",
   "version": "2.7.6"
  }
 },
 "nbformat": 4,
 "nbformat_minor": 0
}