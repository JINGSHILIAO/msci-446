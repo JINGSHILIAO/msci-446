{
 "cells": [
  {
   "cell_type": "code",
   "execution_count": 8,
   "outputs": [
    {
     "name": "stdout",
     "output_type": "stream",
     "text": [
      "Done readin!\n"
     ]
    }
   ],
   "source": [
    "import json\n",
    "lines = ''\n",
    "with open(\"r_output.json\", encoding=\"utf-8\") as f:\n",
    "    lines = ''.join(f.readlines())\n",
    "\n",
    "allData = json.loads(lines)\n",
    "print(\"Done readin!\")"
   ],
   "metadata": {
    "collapsed": false,
    "pycharm": {
     "name": "#%%\n"
    }
   }
  },
  {
   "cell_type": "code",
   "execution_count": 9,
   "outputs": [
    {
     "data": {
      "text/plain": "{'steamId': '524220',\n 'itadPlain': 'nierautomata',\n 'itad.position': 1,\n 'itad.rank': 1,\n 'itad.sales': [[1488560977000, 80.4826],\n  [1488564938000, 79.99],\n  [1488901613000, 70.89],\n  [1488901674000, 65.43],\n  [1488901694000, 65.43],\n  [1489146879000, 64.67],\n  [1489363469000, 64.67],\n  [1489364870000, 65.43],\n  [1489416893000, 65.43],\n  [1489418132000, 70.59],\n  [1489608486000, 67.92],\n  [1489666093000, 67.92],\n  [1489669701000, 70.59],\n  [1489691766000, 70.59],\n  [1489695365000, 68.06],\n  [1489703625000, 68.06],\n  [1489704899000, 67.87],\n  [1489820019000, 67.87],\n  [1489821154000, 67.87],\n  [1490180594000, 67.87],\n  [1490181326000, 68.06],\n  [1490181331000, 68.06],\n  [1490182717000, 66.9],\n  [1491330497000, 66.9],\n  [1491568335000, 61.69],\n  [1491589935000, 61.69],\n  [1491939128000, 66.9],\n  [1491939129000, 61.33],\n  [1491957132000, 61.33],\n  [1492198324000, 61.27],\n  [1492342569000, 61.27],\n  [1492393011000, 61.22],\n  [1492429241000, 61.22],\n  [1492738577000, 66.9],\n  [1492738578000, 61.96],\n  [1492774564000, 61.96],\n  [1492791940000, 66.9],\n  [1492804130000, 66.9],\n  [1492824964000, 62.06],\n  [1492850717000, 62.06],\n  [1493031131000, 62.06],\n  [1493081529000, 62.3],\n  [1493115062000, 62.3],\n  [1493116284000, 60.95],\n  [1493126211000, 60.95],\n  [1493127399000, 57.66],\n  [1493134671000, 57.66],\n  [1493134672000, 57.66],\n  [1493134777000, 57.66],\n  [1493134778000, 57.66],\n  [1493134835000, 57.66],\n  [1493134836000, 57.66],\n  [1493161408000, 57.66],\n  [1493162665000, 62.3],\n  [1493316966000, 62.3],\n  [1493407010000, 62.92],\n  [1493450175000, 62.92],\n  [1493451392000, 62.92],\n  [1493771768000, 62.92],\n  [1493824087000, 70],\n  [1493896105000, 70],\n  [1493898725000, 61.76],\n  [1494068213000, 61.76],\n  [1494644719000, 75.07],\n  [1494789503000, 75.38],\n  [1494863952000, 75.38],\n  [1494865469000, 78.62],\n  [1495439042000, 78.62],\n  [1495439043000, 60.79],\n  [1495536246000, 60.79],\n  [1496436732000, 78.62],\n  [1496436733000, 56.66],\n  [1496920571000, 56.66],\n  [1497468963000, 78.62],\n  [1497468964000, 56.96],\n  [1497724803000, 56.96],\n  [1498133918000, 78.62],\n  [1498133919000, 57.23],\n  [1498155345000, 57.23],\n  [1498157158000, 55.99],\n  [1498673239000, 55.99],\n  [1498841637000, 55.99],\n  [1498842962000, 55.99],\n  [1499274961000, 55.99],\n  [1499276797000, 57.23],\n  [1499597374000, 57.23],\n  [1499993294000, 71.28],\n  [1499993295000, 53.46],\n  [1500900162000, 53.46],\n  [1500901323000, 53.46],\n  [1501373767000, 53.46],\n  [1501528565000, 49.94],\n  [1501673236000, 49.94],\n  [1501723685000, 50.31],\n  [1501893131000, 50.31],\n  [1501896728000, 56.89],\n  [1502733697000, 56.89],\n  [1504628153000, 63.82],\n  [1504631750000, 51.99],\n  [1504680276000, 51.99],\n  [1504680389000, 51.99],\n  [1504680525000, 51.99],\n  [1504681535000, 51.99],\n  [1504681711000, 51.99],\n  [1504681754000, 51.99],\n  [1506359752000, 51.99],\n  [1506361540000, 63.82],\n  [1508516714000, 63.82],\n  [1511374564000, 64.51],\n  [1511376386000, 47.99],\n  [1511892975000, 47.99],\n  [1511894798000, 64.51],\n  [1514759997000, 64.51],\n  [1514761047000, 64.51],\n  [1514761390000, 64.51],\n  [1514762439000, 64.51],\n  [1514765826000, 64.51],\n  [1514766013000, 64.51],\n  [1514767064000, 64.51],\n  [1514767338000, 64.51],\n  [1515522432000, 64.51],\n  [1515535690000, 64.51],\n  [1515597228000, 64.51],\n  [1515597259000, 64.51],\n  [1517949776000, 64.51],\n  [1517949958000, 64.51],\n  [1518172581000, 64.51],\n  [1518173219000, 64.51],\n  [1518886182000, 64.51],\n  [1518886347000, 64.51],\n  [1519075825000, 64.51],\n  [1519075890000, 64.51],\n  [1519925357000, 64.51],\n  [1519930675000, 39.99],\n  [1520429832000, 39.99],\n  [1520429833000, 39.99],\n  [1520448760000, 39.99],\n  [1521044821000, 39.99],\n  [1521051828000, 64.51],\n  [1521127720000, 64.51],\n  [1521133659000, 39.1274],\n  [1521737691000, 39.1274],\n  [1521738833000, 64.51],\n  [1524175468000, 64.51],\n  [1524191253000, 64.51],\n  [1525038733000, 64.51],\n  [1525038734000, 39.99],\n  [1525629280000, 39.99],\n  [1525630960000, 64.51],\n  [1528917017000, 64.51],\n  [1528918096000, 64.51],\n  [1529082192000, 64.51],\n  [1529083677000, 64.51],\n  [1529084025000, 64.51],\n  [1529085803000, 64.51],\n  [1529936971000, 64.51],\n  [1529938927000, 64.51],\n  [1531822309000, 64.51],\n  [1531823720000, 62.97],\n  [1533222367000, 62.97],\n  [1533223249000, 64.51],\n  [1537377021000, 64.51],\n  [1537379629000, 39.99],\n  [1538500255000, 39.99],\n  [1538503656000, 64.51],\n  [1538585710000, 64.51],\n  [1538589677000, 38.4574],\n  [1539190716000, 38.4574],\n  [1539193114000, 64.51],\n  [1539215014000, 64.51],\n  [1539290542000, 31.36],\n  [1539356256000, 31.36],\n  [1539357428000, 35.17],\n  [1539874152000, 35.17],\n  [1539875204000, 64.51],\n  [1542303163000, 64.51],\n  [1542306731000, 39.6007],\n  [1542758531000, 39.6007],\n  [1542759714000, 39.6007],\n  [1542816188000, 39.6007],\n  [1542828614000, 39.6007],\n  [1543333389000, 39.6007],\n  [1543334656000, 39.6007],\n  [1543340481000, 39.6007],\n  [1543344156000, 39.6007],\n  [1543345913000, 39.6007],\n  [1543346473000, 64.51],\n  [1551200073000, 64.51],\n  [1551202679000, 64.51],\n  [1551206093000, 64.51],\n  [1551210799000, 53.5],\n  [1552071482000, 53.5],\n  [1553319945000, 53.5],\n  [1553320634000, 53.5],\n  [1553320791000, 53.5],\n  [1553320893000, 42.61],\n  [1553321911000, 42.61],\n  [1553322225000, 42.61],\n  [1553605214000, 42.61],\n  [1553605215000, 32.17],\n  [1553736519000, 32.17],\n  [1553827449000, 32.22],\n  [1556544088000, 32.22],\n  [1556580130000, 32.22],\n  [1556623957000, 32.22],\n  [1556628241000, 40.12],\n  [1556710145000, 40.12],\n  [1556714174000, 32.15],\n  [1557164371000, 32.15],\n  [1557165482000, 32.15],\n  [1559077966000, 32.15],\n  [1559078186000, 32.15],\n  [1559078428000, 32.15],\n  [1559079171000, 32.15],\n  [1559079292000, 32.15],\n  [1559079390000, 32.15],\n  [1559302085000, 32.15],\n  [1559305689000, 35.83],\n  [1559350812000, 35.83],\n  [1559351975000, 31.14],\n  [1560268885000, 31.14],\n  [1560268892000, 31.14],\n  [1560268898000, 31.14],\n  [1562499281000, 31.14],\n  [1562549821000, 30.05],\n  [1562791075000, 30.05],\n  [1562870645000, 30.07],\n  [1563056176000, 30.07],\n  [1563056177000, 30.07],\n  [1563056269000, 30.07],\n  [1563056270000, 30.07],\n  [1563056356000, 30.07],\n  [1563056357000, 30.07],\n  [1563813272000, 30.07],\n  [1563816374000, 30.07],\n  [1565031868000, 30.07],\n  [1565034440000, 30.07],\n  [1565720744000, 30.07],\n  [1565720788000, 30.07],\n  [1565720803000, 30.07],\n  [1567248746000, 30.07],\n  [1567252275000, 53.5],\n  [1567640889000, 53.5],\n  [1567644502000, 29.08],\n  [1567796415000, 29.08],\n  [1568141893000, 53.5],\n  [1568141894000, 28.9],\n  [1568300162000, 28.9],\n  [1568300163000, 28.9],\n  [1568300349000, 28.9],\n  [1568300350000, 28.9],\n  [1568301125000, 28.9],\n  [1568301126000, 28.9],\n  [1568307851000, 28.9],\n  [1568393143000, 29.18],\n  [1568548854000, 29.18],\n  [1568838004000, 32.55],\n  [1568838005000, 29.21],\n  [1569704687000, 29.21],\n  [1569704888000, 29.21],\n  [1569704918000, 29.21],\n  [1569706824000, 29.21],\n  [1569706878000, 29.21],\n  [1569706971000, 29.21],\n  [1569805345000, 29.21],\n  [1569809210000, 32.5311],\n  [1569811254000, 32.5267],\n  [1569958086000, 29.08],\n  [1570550574000, 29.08],\n  [1570718166000, 29.26],\n  [1571706121000, 29.26],\n  [1571762274000, 28.83],\n  [1571879161000, 28.83],\n  [1571949539000, 28.75],\n  [1572026886000, 28.75],\n  [1572111494000, 28.71],\n  [1572526920000, 28.71],\n  [1572529447000, 32.5267],\n  [1572807806000, 32.5267],\n  [1572810245000, 30.25],\n  [1573354825000, 30.25],\n  [1573436652000, 29.09],\n  [1573783681000, 29.09],\n  [1573973049000, 29.07],\n  [1574021017000, 29.07],\n  [1574022501000, 29.07],\n  [1574042452000, 29.07],\n  [1574046495000, 32.5267],\n  [1574050056000, 34.1501],\n  [1574088247000, 29.06],\n  [1574362835000, 29.06],\n  [1574786644000, 34.1501],\n  [1574786645000, 29.25],\n  [1574816588000, 29.25],\n  [1574930650000, 29.23],\n  [1574968279000, 29.23],\n  [1575035049000, 29.24],\n  [1575086735000, 29.24],\n  [1575168488000, 29.21],\n  [1575227028000, 29.21],\n  [1575227070000, 29.21],\n  [1575227148000, 29.21],\n  [1575248974000, 29.21],\n  [1575294492000, 29.24],\n  [1575334809000, 29.24],\n  [1575385323000, 35.3721],\n  [1575385454000, 35.3721],\n  [1575385535000, 34.5647],\n  [1575398891000, 29.26],\n  [1575472151000, 29.26],\n  [1575597133000, 28.99],\n  [1575655456000, 28.99],\n  [1575655639000, 28.99],\n  [1575659411000, 28.99],\n  [1575836647000, 29.15],\n  [1575857441000, 29.15],\n  [1575915047000, 34.5647],\n  [1575915687000, 34.5647],\n  [1576031289000, 29.11],\n  [1576116255000, 29.11],\n  [1576120000000, 34.5647],\n  [1576121915000, 34.5647],\n  [1576148549000, 34.5647],\n  [1576153714000, 34.5647],\n  [1576172406000, 28.99],\n  [1576235624000, 28.99],\n  [1576237136000, 28.99],\n  [1576872163000, 28.99],\n  [1577307018000, 35.1624],\n  [1577307019000, 28.98],\n  [1577329887000, 28.98],\n  [1577331868000, 28.98],\n  [1577833256000, 28.98],\n  [1577834017000, 28.98],\n  [1577834302000, 28.98],\n  [1577835664000, 28.98],\n  [1577836821000, 28.98],\n  [1577837055000, 28.98],\n  [1577841058000, 28.98],\n  [1577841080000, 28.98],\n  [1577841180000, 28.98],\n  [1577841421000, 28.98],\n  [1577841455000, 28.98],\n  [1577841487000, 28.98],\n  [1578013424000, 28.98],\n  [1578211688000, 29.89],\n  [1578946472000, 29.89],\n  [1578950470000, 29.89],\n  [1579025114000, 29.89],\n  [1579028671000, 29.89],\n  [1579039213000, 29.89],\n  [1579041463000, 29.89],\n  [1579068144000, 29.89],\n  [1579069213000, 29.89],\n  [1579072403000, 29.89],\n  [1579073614000, 29.89],\n  [1579112053000, 29.89],\n  [1579116050000, 29.89],\n  [1579420804000, 29.89],\n  [1579425270000, 29.89],\n  [1579460598000, 29.89],\n  [1579542724000, 30.02],\n  [1579547130000, 30.02],\n  [1579548902000, 30.02],\n  [1579557690000, 30.02],\n  [1579559711000, 30.02],\n  [1579604905000, 30.02],\n  [1579657926000, 30.08],\n  [1579712580000, 30.08],\n  [1579712581000, 30.01],\n  [1579713274000, 30.01],\n  [1579713658000, 30.01],\n  [1579799048000, 30.01],\n  [1579800464000, 30.01],\n  [1579817099000, 30.01],\n  [1579822441000, 30.01],\n  [1579828623000, 30.01],\n  [1579936580000, 30.01],\n  [1579940713000, 30.01],\n  [1579975211000, 30.01],\n  [1579976899000, 30.01],\n  [1580003747000, 30.01],\n  [1580094072000, 30.01],\n  [1580101555000, 30.01],\n  [1580102929000, 30.01],\n  [1580148009000, 30.01],\n  [1580159464000, 30.01],\n  [1580162063000, 30.01],\n  [1580191961000, 30.01],\n  [1580193686000, 30.01],\n  [1580314376000, 30.01],\n  [1580315776000, 30.01],\n  [1580356895000, 30.01],\n  [1580357158000, 30.01],\n  [1580358610000, 30.01],\n  [1580358636000, 30.01],\n  [1580418163000, 30.01],\n  [1580420223000, 30.01],\n  [1580440042000, 30.01],\n  [1580444921000, 30.01],\n  [1580623590000, 30.01],\n  [1580625314000, 30.01],\n  [1580634255000, 30.01],\n  [1580639755000, 30.01],\n  [1580825319000, 30.01],\n  [1580827240000, 30.01],\n  [1580915417000, 30.01],\n  [1580917375000, 30.01],\n  [1581019249000, 30.01],\n  [1581020862000, 30.01],\n  [1581030191000, 30.01],\n  [1581032258000, 30.01],\n  [1581094913000, 30.01],\n  [1581098416000, 30.01],\n  [1581099757000, 30.01],\n  [1581104228000, 30.01],\n  [1581127446000, 30.01],\n  [1581129473000, 30.01],\n  [1581289876000, 30.01],\n  [1581295061000, 30.01],\n  [1581354111000, 30.01],\n  [1581355623000, 30.01],\n  [1581375686000, 30.01],\n  [1581377200000, 30.01],\n  [1581466040000, 30.01],\n  [1581470444000, 30.01],\n  [1581498225000, 30.01],\n  [1581503178000, 30.01],\n  [1581526984000, 30.01],\n  [1581528405000, 30.01],\n  [1581588069000, 30.01],\n  [1581593983000, 30.01],\n  [1581642143000, 30.01],\n  [1581644588000, 30.01],\n  [1581649208000, 30.01],\n  [1581649944000, 30.01],\n  [1581651563000, 30.01],\n  [1581654431000, 30.01],\n  [1581699826000, 30.01],\n  [1581701143000, 30.01],\n  [1581761748000, 30.01],\n  [1581766030000, 30.01],\n  [1581822040000, 30.01],\n  [1581823577000, 30.01],\n  [1582826694000, 30.01],\n  [1582827688000, 26.75],\n  [1583172627000, 26.75],\n  [1583173272000, 30.01],\n  [1584814296000, 30.01],\n  [1584815335000, 28.72],\n  [1584864873000, 28.72],\n  [1584865744000, 28.7],\n  [1585682510000, 28.7],\n  [1585683229000, 28.7],\n  [1585693213000, 28.7],\n  [1585695215000, 33.7],\n  [1585900945000, 33.7],\n  [1585902725000, 29.73],\n  [1585904585000, 29.73],\n  [1585907529000, 29.72],\n  [1587315605000, 29.72],\n  [1587315661000, 29.72],\n  [1587316345000, 29.72],\n  [1587727073000, 29.72],\n  [1587727074000, 29.4895],\n  [1587727904000, 29.4895],\n  [1587727905000, 29.4895],\n  [1587728357000, 29.4895],\n  [1587728358000, 29.4895],\n  [1588234807000, 29.4895],\n  [1588235540000, 29.4895],\n  [1588616700000, 29.4895],\n  [1588617250000, 29.4895],\n  [1592849764000, 29.4895],\n  [1596355247000, 29.4895],\n  [1596356311000, 29.72],\n  [1596356409000, 29.72],\n  [1596357394000, 28.0613],\n  [1596358259000, 28.0613],\n  [1596358278000, 28.0613],\n  [1596438464000, 28.0613],\n  [1596442171000, 28.419],\n  [1596442273000, 28.419],\n  [1596442702000, 28.419],\n  [1596442823000, 28.419],\n  [1596445171000, 29.72],\n  [1599163686000, 29.72],\n  [1599163687000, 27.55],\n  [1599286303000, 27.55],\n  [1600801801000, 29.72],\n  [1600802332000, 29.72],\n  [1600802680000, 29.72],\n  [1600880891000, 29.72],\n  [1600881681000, 26.75],\n  [1602090888000, 26.75],\n  [1602091283000, 29.72],\n  [1602775384000, 29.72],\n  [1608661028000, 53.5],\n  [1608663491000, 26.75],\n  [1609869781000, 26.75],\n  [1609872700000, 53.5],\n  [1612972507000, 53.5],\n  [1612972508000, 25.3641],\n  [1613005309000, 25.3641],\n  [1616839364000, 53.5]],\n 'steam.name': 'NieR:Automata™',\n 'steam.steam_appid': 524220,\n 'steam.required_age': 0,\n 'steam.is_free': False,\n 'steam.dlc': 1,\n 'steam.detailed_description': '<h1>NieR:Automata™ Game of the YoRHa Edition</h1><p><img src=\"https://cdn.cloudflare.steamstatic.com/steam/apps/524220/extras/Nier-GOTY-Steam-EN.jpg?t=1624266255\" /><br>The NieR:Automata™ Game of the YoRHa Edition includes the game itself and comes packed with DLC and bonus content for the full experience of the award-winning post-apocalyptic action RPG, including:<br><br><ul class=\"bb_ul\"><li>3C3C1D119440927 DLC*<br></li><li>Valve Character Accessory<br></li><li>Cardboard Pod Skin<br></li><li>Retro Grey Pod Skin<br></li><li>Retro Red Pod Skin<br></li><li>Grimoire Weiss Pod<br></li><li>Machine Mask Accessory<br></li><li>Exclusive set of wallpapers in the following sizes: 1024 x 768, 1280 x 1024, 1920 x 1080, 2560 x 1600</li></ul><br>*To enjoy this content you will need to have progressed a certain way into the main story of the game. There are also some scenes during the progression of the main game scenario in which this content cannot be accessed.</p><br><h1>Featured DLC</h1><p><img src=\"https://cdn.cloudflare.steamstatic.com/steam/apps/524220/extras/PromoBanner_616x389_en.png?t=1624266255\" /><br>The NieR: Automata 3C3C1D119440927 DLC is out now and includes three new colosseums to challenge, plus additional sub-quests. Upon completion of these quests, players can earn various rewards including new costumes from NieR: Replicant, new equipment and cosmetic accessories such as masks, hairspray that change the color of your character, records that add special music tracks to the players’ jukebox and much more!</p><br><h1>Reviews &amp; Accolades</h1><p>9/10 <i>&quot;Don’t miss this&quot;</i> – <a href=\"https://steamcommunity.com/linkfilter/?url=https://www.videogamer.com/reviews/nier-automata-review\" target=\"_blank\" rel=\"noopener\"  >VideoGamer</a><br><br>10/10 <i>&quot;One of the best games I’ve ever played&quot;</i> – <a href=\"https://steamcommunity.com/linkfilter/?url=http://www.rpgsite.net/review/5372-nier-automata-review\" target=\"_blank\" rel=\"noopener\"  >RPGSite</a><br><br>4/5 <i>&quot;Pure genius&quot;</i> – <a href=\"https://steamcommunity.com/linkfilter/?url=http://www.trustedreviews.com/nier-automata-review\" target=\"_blank\" rel=\"noopener\"  >Trusted Reviews</a><br><br>9/10 <i>&quot;One of the most interesting and unique games you’ll play this year&quot;</i> – <a href=\"https://steamcommunity.com/linkfilter/?url=http://www.godisageek.com/reviews/nier-automata-review\" target=\"_blank\" rel=\"noopener\"  >God is a Geek</a><br><br>9/10 <i>&quot;Classic Platinum action combined with a deep role-playing system&quot;</i> – <a href=\"https://steamcommunity.com/linkfilter/?url=http://metro.co.uk/2017/03/06/nier-automata-review-bullet-hell-meets-existential-role-player-6491251/\" target=\"_blank\" rel=\"noopener\"  >Metro</a></p><br><h1>About the Game</h1><a href=\"https://store.steampowered.com/app/1113560/NieR_Replicant_ver122474487139/\" target=\"_blank\" rel=\"noreferrer\"  id=\"dynamiclink_0\" >https://store.steampowered.com/app/1113560/NieR_Replicant_ver122474487139/</a><br><br><img src=\"https://cdn.cloudflare.steamstatic.com/steam/apps/524220/extras/Nier_PRE_Launch-ENG_UK_Multi_06_Mod.jpg?t=1624266255\" /><br>NieR: Automata tells the story of androids 2B, 9S and A2 and their battle to reclaim the machine-driven dystopia overrun by powerful machines.<br><br>Humanity has been driven from the Earth by mechanical beings from another world. In a final effort to take back the planet, the human resistance sends a force of android soldiers to destroy the invaders. Now, a war between machines and androids rages on... A war that could soon unveil a long-forgotten truth of the world.<br><br>Key Features:<br><ul class=\"bb_ul\"><li><strong>Action-Packed Battles</strong> – Players will switch between using melee and ranged attacks in battle against hordes of enemies and challenging bosses across a variety of open field maps. The tight controls and incredibly fluid combat are simple to learn for newcomers while offering plenty of depth for more experienced action gamers. Players can perform high-speed battle actions—combining light and heavy attacks—and switch through an arsenal of weaponry while evading enemies with speed and style. <br></li><li><strong>Beautifully Desolate Open-World</strong> – The game seamlessly joins together hauntingly beautiful vistas and locations with no area loading. The environments are rendered in 60fps and contain a wealth of sub-events in addition to the main storyline. <br></li><li><strong>Masterfully Crafted Story and Characters</strong> – NieR: Automata tells the story of androids 2B, 9S and A2 and their ferocious battle to reclaim a machine-driven dystopia overrun by powerful weapons known as machine lifeforms.<br></li><li><strong>Elements of an RPG</strong> – Players will obtain a variety of weapon types, level up in battle, learn new combat skills, and customise a loadout that caters to their playstyle.<br></li><li><strong>Utilise the Pod Support System to Assist In and Outside of Battle</strong> – Pods can attack the enemy in both manual and lock-on modes. They can also assist outside of battle, such as allowing the player to glide through the air. Pods can be enhanced throughout the game, with upgrades including new attack methods and variations.<br></li><li><strong>“Auto Mode” Available for Beginners </strong>– Novice players can elect “Auto Mode” for easy attacks and evasions.</li></ul>',\n 'steam.about_the_game': '<a href=\"https://store.steampowered.com/app/1113560/NieR_Replicant_ver122474487139/\" target=\"_blank\" rel=\"noreferrer\"  id=\"dynamiclink_1\" >https://store.steampowered.com/app/1113560/NieR_Replicant_ver122474487139/</a><br><br><img src=\"https://cdn.cloudflare.steamstatic.com/steam/apps/524220/extras/Nier_PRE_Launch-ENG_UK_Multi_06_Mod.jpg?t=1624266255\" /><br>NieR: Automata tells the story of androids 2B, 9S and A2 and their battle to reclaim the machine-driven dystopia overrun by powerful machines.<br><br>Humanity has been driven from the Earth by mechanical beings from another world. In a final effort to take back the planet, the human resistance sends a force of android soldiers to destroy the invaders. Now, a war between machines and androids rages on... A war that could soon unveil a long-forgotten truth of the world.<br><br>Key Features:<br><ul class=\"bb_ul\"><li><strong>Action-Packed Battles</strong> – Players will switch between using melee and ranged attacks in battle against hordes of enemies and challenging bosses across a variety of open field maps. The tight controls and incredibly fluid combat are simple to learn for newcomers while offering plenty of depth for more experienced action gamers. Players can perform high-speed battle actions—combining light and heavy attacks—and switch through an arsenal of weaponry while evading enemies with speed and style. <br></li><li><strong>Beautifully Desolate Open-World</strong> – The game seamlessly joins together hauntingly beautiful vistas and locations with no area loading. The environments are rendered in 60fps and contain a wealth of sub-events in addition to the main storyline. <br></li><li><strong>Masterfully Crafted Story and Characters</strong> – NieR: Automata tells the story of androids 2B, 9S and A2 and their ferocious battle to reclaim a machine-driven dystopia overrun by powerful weapons known as machine lifeforms.<br></li><li><strong>Elements of an RPG</strong> – Players will obtain a variety of weapon types, level up in battle, learn new combat skills, and customise a loadout that caters to their playstyle.<br></li><li><strong>Utilise the Pod Support System to Assist In and Outside of Battle</strong> – Pods can attack the enemy in both manual and lock-on modes. They can also assist outside of battle, such as allowing the player to glide through the air. Pods can be enhanced throughout the game, with upgrades including new attack methods and variations.<br></li><li><strong>“Auto Mode” Available for Beginners </strong>– Novice players can elect “Auto Mode” for easy attacks and evasions.</li></ul>',\n 'steam.short_description': 'NieR: Automata tells the story of androids 2B, 9S and A2 and their battle to reclaim the machine-driven dystopia overrun by powerful machines.',\n 'steam.supported_languages': 'english french italian german spanish  spain japanese',\n 'steam.reviews': True,\n 'steam.pc_requirements': True,\n 'steam.mac_requirements': False,\n 'steam.linux_requirements': False,\n 'steam.developers': ['Square Enix', 'PlatinumGames Inc.'],\n 'steam.categories_description': ['Single-player',\n  'Steam Achievements',\n  'Steam Trading Cards',\n  'Partial Controller Support',\n  'Steam Cloud',\n  'Remote Play on Phone',\n  'Remote Play on Tablet'],\n 'steam.genres_description': ['Action', 'RPG'],\n 'steam.controller_support': False,\n 'steam.metacritic.score': 0.866,\n 'steam.drm_consolidated_CrackProof': 0,\n 'steam.drm_consolidated_Denuvo': 0,\n 'steam.drm_consolidated_EA': 0,\n 'steam.drm_consolidated_Games for Windows Live': 0,\n 'steam.drm_consolidated_GameShield': 0,\n 'steam.drm_consolidated_Kalypso': 0,\n 'steam.drm_consolidated_SecuROM': 0,\n 'steam.drm_consolidated_Ubisoft': 0,\n 'steam.drm_consolidated_NA': 1}"
     },
     "execution_count": 9,
     "metadata": {},
     "output_type": "execute_result"
    }
   ],
   "source": [
    "# Sample of what the input data looks like\n",
    "allData[0]"
   ],
   "metadata": {
    "collapsed": false,
    "pycharm": {
     "name": "#%%\n"
    }
   }
  },
  {
   "cell_type": "code",
   "execution_count": 10,
   "outputs": [
    {
     "data": {
      "text/plain": "{'steamId': '413150',\n 'itadPlain': 'stardewvalley',\n 'itad.position': 2,\n 'itad.rank': 2,\n 'itad.sales': [[1456511248000, 20.29],\n  [1456512252000, 20.262],\n  [1456518834000, 16.99],\n  [1457119967000, 16.99],\n  [1457740785000, 16.99],\n  [1457740786000, 16.99],\n  [1460426865000, 16.99],\n  [1460428240000, 14.99],\n  [1460428297000, 14.99],\n  [1460429352000, 16.99],\n  [1464294707000, 16.99],\n  [1464296144000, 14.99],\n  [1464296332000, 14.99],\n  [1464297305000, 16.99],\n  [1466700744000, 16.99],\n  [1466707009000, 13.59],\n  [1467654355000, 13.59],\n  [1467654953000, 16.99],\n  [1467835926000, 16.99],\n  [1467851711000, 16.99],\n  [1468575946000, 16.99],\n  [1468577183000, 15.69],\n  [1468848886000, 15.69],\n  [1468850368000, 16.99],\n  [1472004913000, 16.99],\n  [1472005981000, 16.99],\n  [1473354126000, 16.99],\n  [1473355271000, 15.4647],\n  [1474563099000, 15.4647],\n  [1474564315000, 16.99],\n  [1478145428000, 16.99],\n  [1478146451000, 16.99],\n  [1478170447000, 16.99],\n  [1478171718000, 14.99],\n  [1479077109000, 14.99],\n  [1479078367000, 16.99],\n  [1479923150000, 16.99],\n  [1479925025000, 11.38],\n  [1480443375000, 11.38],\n  [1480445191000, 16.99],\n  [1480614357000, 16.99],\n  [1480616184000, 11.38],\n  [1480787145000, 11.38],\n  [1480788958000, 16.99],\n  [1482430553000, 16.99],\n  [1482432354000, 11.38],\n  [1482489411000, 11.38],\n  [1482491079000, 11.38],\n  [1482965472000, 11.38],\n  [1482966724000, 11.38],\n  [1483381046000, 11.38],\n  [1483382803000, 16.99],\n  [1484243324000, 16.99],\n  [1484244344000, 15.7369],\n  [1485799205000, 15.7369],\n  [1485800513000, 16.99],\n  [1488218678000, 16.99],\n  [1488219675000, 14.7188],\n  [1488305754000, 14.7188],\n  [1488307528000, 13.59],\n  [1488563877000, 13.59],\n  [1488564826000, 13.59],\n  [1488564940000, 13.59],\n  [1488566727000, 16.99],\n  [1494520887000, 16.99],\n  [1494537439000, 16.4191],\n  [1496077152000, 16.4191],\n  [1496078940000, 16.99],\n  [1496754378000, 16.99],\n  [1496755636000, 13.49],\n  [1497995515000, 13.49],\n  [1497996731000, 16.99],\n  [1498155345000, 16.99],\n  [1498157157000, 10.19],\n  [1499276814000, 10.19],\n  [1499278582000, 16.99],\n  [1499359531000, 16.99],\n  [1499361347000, 10.19],\n  [1499708736000, 10.19],\n  [1499710547000, 16.99],\n  [1503991477000, 16.99],\n  [1503992646000, 16.99],\n  [1511374564000, 16.99],\n  [1511376385000, 11.38],\n  [1511894814000, 11.38],\n  [1511896611000, 16.99],\n  [1513087769000, 16.99],\n  [1513088837000, 12.49],\n  [1513619079000, 12.49],\n  [1513620286000, 12.49],\n  [1513880154000, 12.49],\n  [1513882005000, 11.38],\n  [1514223683000, 11.38],\n  [1514224868000, 11.38],\n  [1514329121000, 11.38],\n  [1514330314000, 11.38],\n  [1515093422000, 11.38],\n  [1515095153000, 16.99],\n  [1515693326000, 16.99],\n  [1515694147000, 14.0783],\n  [1516903110000, 14.0783],\n  [1516903778000, 16.99],\n  [1518530504000, 16.99],\n  [1518531448000, 12.49],\n  [1518715286000, 12.49],\n  [1518718867000, 12.49],\n  [1519062819000, 12.49],\n  [1519064573000, 12.49],\n  [1519167541000, 12.49],\n  [1519169211000, 16.99],\n  [1528030609000, 16.99],\n  [1529633675000, 18.468],\n  [1529633676000, 13.59],\n  [1530804149000, 13.59],\n  [1530813576000, 16.99],\n  [1532103068000, 16.99],\n  [1532188540000, 16.99],\n  [1533563121000, 16.99],\n  [1533564277000, 16.99],\n  [1538405292000, 16.99],\n  [1538406578000, 13.59],\n  [1538442740000, 13.59],\n  [1538443994000, 11.19],\n  [1538444025000, 11.19],\n  [1538445268000, 13.59],\n  [1538800039000, 13.59],\n  [1538801288000, 11.19],\n  [1538801308000, 11.19],\n  [1538802559000, 13.59],\n  [1538910933000, 13.59],\n  [1538912189000, 11.99],\n  [1538912192000, 11.99],\n  [1538913457000, 13.59],\n  [1538948722000, 13.59],\n  [1538949970000, 16.99],\n  [1539346165000, 16.99],\n  [1539347267000, 14.99],\n  [1539429141000, 14.99],\n  [1539430280000, 16.99],\n  [1541003761000, 16.99],\n  [1541007385000, 16.99],\n  [1541008721000, 13.99],\n  [1541013364000, 13.59],\n  [1541091470000, 13.59],\n  [1541091575000, 13.59],\n  [1541091648000, 16.99],\n  [1541101396000, 16.99],\n  [1544709245000, 16.99],\n  [1544710514000, 12.79],\n  [1545327838000, 12.79],\n  [1545335591000, 12.74],\n  [1546530603000, 12.74],\n  [1546546938000, 12.79],\n  [1546555873000, 12.79],\n  [1546557018000, 16.99],\n  [1547145265000, 16.99],\n  [1547152197000, 16.99],\n  [1548356755000, 16.99],\n  [1548371836000, 16.99],\n  [1551869600000, 16.99],\n  [1551870874000, 12.79],\n  [1552171988000, 12.79],\n  [1552173028000, 16.99],\n  [1556010185000, 16.99],\n  [1556011344000, 12.79],\n  [1556545556000, 12.79],\n  [1556577538000, 16.99],\n  [1557958215000, 16.99],\n  [1559221235000, 16.99],\n  [1559221731000, 15.29],\n  [1560808846000, 15.29],\n  [1560809361000, 16.99],\n  [1561511021000, 16.99],\n  [1561518391000, 13.59],\n  [1561984906000, 13.59],\n  [1561986008000, 13.59],\n  [1562623239000, 13.59],\n  [1562623252000, 13.59],\n  [1562694240000, 13.59],\n  [1562707875000, 16.99],\n  [1563163313000, 16.99],\n  [1563559802000, 16.99],\n  [1563559803000, 16.99],\n  [1563559828000, 16.99],\n  [1563564003000, 16.99],\n  [1563564030000, 16.99],\n  [1563566405000, 16.99],\n  [1563569580000, 16.99],\n  [1563578703000, 16.99],\n  [1563815515000, 16.99],\n  [1563908431000, 16.99],\n  [1563910507000, 16.99],\n  [1568809288000, 16.99],\n  [1568810974000, 13.59],\n  [1569071024000, 13.59],\n  [1569072396000, 16.99],\n  [1570104175000, 16.99],\n  [1570106638000, 12.79],\n  [1570377606000, 12.79],\n  [1570377606000, 12.79],\n  [1570380363000, 12.79],\n  [1570453283000, 12.79],\n  [1570454414000, 16.99],\n  [1572393602000, 16.99],\n  [1572393699000, 16.99],\n  [1572396312000, 16.99],\n  [1572448448000, 16.99],\n  [1572449627000, 16.99],\n  [1572580977000, 16.99],\n  [1572581777000, 16.99],\n  [1572692444000, 16.99],\n  [1572692856000, 16.99],\n  [1573499100000, 16.99],\n  [1573499245000, 13.59],\n  [1573574888000, 13.59],\n  [1573575748000, 16.99],\n  [1574630468000, 16.99],\n  [1574788017000, 16.99],\n  [1574788310000, 16.99],\n  [1574790742000, 15.29],\n  [1574791971000, 15.29],\n  [1575396540000, 15.29],\n  [1575396787000, 15.29],\n  [1575397222000, 16.99],\n  [1575397913000, 16.99],\n  [1575752988000, 16.99],\n  [1575752988000, 16.99],\n  [1575856638000, 16.99],\n  [1575939699000, 16.99],\n  [1576069345000, 16.99],\n  [1576072774000, 13.69],\n  [1576197012000, 13.69],\n  [1576779432000, 13.69],\n  [1576780289000, 10.19],\n  [1576889772000, 10.19],\n  [1577171431000, 10.19],\n  [1577172038000, 10.19],\n  [1577970766000, 10.19],\n  [1577973714000, 10.19],\n  [1577974087000, 10.19],\n  [1577975047000, 10.19],\n  [1577988280000, 10.19],\n  [1577990506000, 16.99],\n  [1579701645000, 16.99],\n  [1579704594000, 12.79],\n  [1579803338000, 12.79],\n  [1579803984000, 11.38],\n  [1580134086000, 11.38],\n  [1580135152000, 11.38],\n  [1580148814000, 11.38],\n  [1580149466000, 16.99],\n  [1581686113000, 16.99],\n  [1581688372000, 10.19],\n  [1581948228000, 10.19],\n  [1581949665000, 16.99],\n  [1584364573000, 16.99],\n  [1584366747000, 13.59],\n  [1584378790000, 13.59],\n  [1584379538000, 13.59],\n  [1584730994000, 13.59],\n  [1584730994000, 13.59],\n  [1584879749000, 13.59],\n  [1584879749000, 13.59],\n  [1584983043000, 13.59],\n  [1585573624000, 13.59],\n  [1585576584000, 16.99],\n  [1588696372000, 16.99],\n  [1588705681000, 16.99],\n  [1593101099000, 16.99],\n  [1593108098000, 10.19],\n  [1594315150000, 10.19],\n  [1594315441000, 16.99],\n  [1596457163000, 16.99],\n  [1596460057000, 10.19],\n  [1596993178000, 10.19],\n  [1596993692000, 10.19],\n  [1597082665000, 10.19],\n  [1597085133000, 13.59],\n  [1597511566000, 13.59],\n  [1597512087000, 16.99],\n  [1598879021000, 16.99],\n  [1598880534000, 13.59],\n  [1599484080000, 13.59],\n  [1599486111000, 16.99],\n  [1603987469000, 16.99],\n  [1603991317000, 13.59],\n  [1604340744000, 13.59],\n  [1604341506000, 16.99],\n  [1606324189000, 16.99],\n  [1606329118000, 11.89],\n  [1606846364000, 11.89],\n  [1606846886000, 16.99],\n  [1608573946000, 16.99],\n  [1608574030000, 11.38],\n  [1609765638000, 11.38],\n  [1609769482000, 11.38],\n  [1609869780000, 11.38],\n  [1609873020000, 11.89],\n  [1610373912000, 11.89],\n  [1610374524000, 16.99],\n  [1610649335000, 15.29],\n  [1610697836000, 15.29],\n  [1611302452000, 16.99],\n  [1611698775000, 16.99],\n  [1611778279000, 16.99],\n  [1611785742000, 15.29],\n  [1611785742000, 16.99],\n  [1611856878000, 16.99],\n  [1611858660000, 15.29],\n  [1611860648000, 15.29],\n  [1611863148000, 16.99],\n  [1612202595000, 16.99],\n  [1613066650000, 16.99],\n  [1613069893000, 13.59],\n  [1613412458000, 13.59],\n  [1613413415000, 16.99],\n  [1614362649000, 16.99],\n  [1614363014000, 16.99],\n  [1614363638000, 8.49],\n  [1614363673000, 8.49],\n  [1614445940000, 8.49],\n  [1614448885000, 8.49],\n  [1614449045000, 8.49],\n  [1614450070000, 16.99],\n  [1616706507000, 16.99],\n  [1616707987000, 13.59],\n  [1617037529000, 13.59],\n  [1617039408000, 16.99],\n  [1624885453000, 16.99],\n  [1624885866000, 13.59],\n  [1624889787000, 13.59],\n  [1624891932000, 10.19],\n  [1625486625000, 10.19],\n  [1625490679000, 10.19],\n  [1625764054000, 10.19],\n  [1625765030000, 16.99],\n  [1627909926000, 16.99],\n  [1627910469000, 10.19],\n  [1628356255000, 10.19],\n  [1628356690000, 10.19],\n  [1628510736000, 10.19],\n  [1628514074000, 10.19],\n  [1628961635000, 16.99],\n  [1628961647000, 16.99],\n  [1632488714000, 16.99],\n  [1632489685000, 10.19],\n  [1632745116000, 10.19],\n  [1632747636000, 16.99],\n  [1635441028000, 16.99],\n  [1635444506000, 13.59],\n  [1635787182000, 13.59],\n  [1635788074000, 16.99],\n  [1637788104000, 16.99],\n  [1637788381000, 10.19],\n  [1637935359000, 10.19],\n  [1637936326000, 10.19],\n  [1638194877000, 10.19],\n  [1638195654000, 10.19],\n  [1638365130000, 10.19],\n  [1638368199000, 10.19],\n  [1638375351000, 10.19],\n  [1638384955000, 13.59],\n  [1638623015000, 13.59],\n  [1638627059000, 16.99],\n  [1639400539000, 16.99],\n  [1639404365000, 11.89],\n  [1640211262000, 11.89],\n  [1640211357000, 11.89],\n  [1641392019000, 11.89],\n  [1641392479000, 11.89],\n  [1641406018000, 11.89],\n  [1641407442000, 16.99],\n  [1641941349000, 16.99],\n  [1643307967000, 16.99],\n  [1643308917000, 13.59],\n  [1643912160000, 13.59],\n  [1643912440000, 16.99],\n  [1646622139000, 16.99],\n  [1646622415000, 16.99],\n  [1646622583000, 16.99],\n  [1646622974000, 16.99]],\n 'steam.name': 'Stardew Valley',\n 'steam.steam_appid': 413150,\n 'steam.required_age': 0,\n 'steam.is_free': False,\n 'steam.dlc': 1,\n 'steam.detailed_description': 'Stardew Valley is an open-ended country-life RPG! <br><br> <img src=\"https://cdn.cloudflare.steamstatic.com/steam/apps/413150/extras/animalStrip2.png?t=1608624324\" /><br><br>You\\'ve inherited your grandfather\\'s old farm plot in Stardew Valley. Armed with hand-me-down tools and a few coins, you set out to begin your new life. Can you learn to live off the land and turn these overgrown fields into a thriving home? It won\\'t be easy. Ever since Joja Corporation came to town, the old ways of life have all but disappeared. The community center, once the town\\'s most vibrant hub of activity, now lies in shambles. But the valley seems full of opportunity. With a little dedication, you might just be the one to restore Stardew Valley to greatness!<br><br><strong>Features </strong><br><ul class=\"bb_ul\"><li><strong>Turn your overgrown field into a lively farm!  </strong> Raise animals, grow crops, start an orchard, craft useful machines, and more! You\\'ll have plenty of space to create the farm of your dreams. <br><br></li><li><strong>4 Player Farming!</strong> Invite 1-3 players to join you in the valley online! Players can work together to build a thriving farm, share resources, and improve the local community.  As more hands are better than one, players have the option to scale profit margin on produce sold for a more challenging experience.<br><br></li><li><strong>Improve your skills over time. </strong> As you make your way from a struggling greenhorn to a master farmer, you\\'ll level up in 5 different areas: farming, mining, combat, fishing, and foraging. As you progress, you\\'ll learn new cooking and crafting recipes, unlock new areas to explore, and customize your skills by choosing from a variety of professions. <br><br></li><li><strong>Become part of the local community. </strong> With over 30 unique characters living in Stardew Valley, you won\\'t have a problem finding new friends! Each person has their own daily schedule, birthday, unique mini-cutscenes, and new things to say throughout the week and year. As you make friends with them, they will open up to you, ask you for help with their personal troubles, or tell you their secrets! Take part in seasonal festivals such as the luau, haunted maze, and feast of the winter star. <br><br></li><li><strong>Explore a vast, mysterious cave. </strong> As you travel deeper underground, you\\'ll encounter new and dangerous monsters, powerful weapons, new environments, valuable gemstones, raw materials for crafting and upgrading tools, and mysteries to be uncovered. <br><br></li><li><strong>Breathe new life into the valley.</strong> Since JojaMart opened, the old way of life in Stardew Valley has changed. Much of the town\\'s infrastructure has fallen into disrepair. Help restore Stardew Valley to it\\'s former glory by repairing the old community center, or take the alternate route and join forces with Joja Corporation.<br><br></li><li><strong>Court and marry a partner to share your life on the farm with. </strong> There are 12 available bachelors and bachelorettes to woo, each with unique character progression cutscenes. Once married, your partner will live on the farm with you. Who knows, maybe you\\'ll have kids and start a family?<br><br></li><li><strong>Spend a relaxing afternoon at one of the local fishing spots. </strong> The waters are teeming with seasonal varieties of delicious fish. Craft bait, bobbers, and crab pots to help you in your journey toward catching every fish and becoming a local legend! <br><br></li><li><strong>Donate artifacts and minerals to the local museum. </strong><br><br></li><li><strong>Cook delicious meals and craft useful items to help you out.  </strong>With over 100 cooking and crafting recipes, you\\'ll have a wide variety of items to create. Some dishes you cook will even give you temporary boosts to skills, running speed, or combat prowess. Craft useful objects like scarecrows, oil makers, furnaces, or even the rare and expensive crystalarium. <br><br></li><li><strong>Customize the appearance of your character and house. </strong> With hundreds of decorative items to choose from, you\\'ll have no trouble creating the home of your dreams!<br><br></li><li><strong>Xbox controller support (with rumble)! (Keyboard still required for text input) </strong><br><br></li><li><strong>Over two hours of original music. </strong></li></ul>',\n 'steam.about_the_game': 'Stardew Valley is an open-ended country-life RPG! <br><br> <img src=\"https://cdn.cloudflare.steamstatic.com/steam/apps/413150/extras/animalStrip2.png?t=1608624324\" /><br><br>You\\'ve inherited your grandfather\\'s old farm plot in Stardew Valley. Armed with hand-me-down tools and a few coins, you set out to begin your new life. Can you learn to live off the land and turn these overgrown fields into a thriving home? It won\\'t be easy. Ever since Joja Corporation came to town, the old ways of life have all but disappeared. The community center, once the town\\'s most vibrant hub of activity, now lies in shambles. But the valley seems full of opportunity. With a little dedication, you might just be the one to restore Stardew Valley to greatness!<br><br><strong>Features </strong><br><ul class=\"bb_ul\"><li><strong>Turn your overgrown field into a lively farm!  </strong> Raise animals, grow crops, start an orchard, craft useful machines, and more! You\\'ll have plenty of space to create the farm of your dreams. <br><br></li><li><strong>4 Player Farming!</strong> Invite 1-3 players to join you in the valley online! Players can work together to build a thriving farm, share resources, and improve the local community.  As more hands are better than one, players have the option to scale profit margin on produce sold for a more challenging experience.<br><br></li><li><strong>Improve your skills over time. </strong> As you make your way from a struggling greenhorn to a master farmer, you\\'ll level up in 5 different areas: farming, mining, combat, fishing, and foraging. As you progress, you\\'ll learn new cooking and crafting recipes, unlock new areas to explore, and customize your skills by choosing from a variety of professions. <br><br></li><li><strong>Become part of the local community. </strong> With over 30 unique characters living in Stardew Valley, you won\\'t have a problem finding new friends! Each person has their own daily schedule, birthday, unique mini-cutscenes, and new things to say throughout the week and year. As you make friends with them, they will open up to you, ask you for help with their personal troubles, or tell you their secrets! Take part in seasonal festivals such as the luau, haunted maze, and feast of the winter star. <br><br></li><li><strong>Explore a vast, mysterious cave. </strong> As you travel deeper underground, you\\'ll encounter new and dangerous monsters, powerful weapons, new environments, valuable gemstones, raw materials for crafting and upgrading tools, and mysteries to be uncovered. <br><br></li><li><strong>Breathe new life into the valley.</strong> Since JojaMart opened, the old way of life in Stardew Valley has changed. Much of the town\\'s infrastructure has fallen into disrepair. Help restore Stardew Valley to it\\'s former glory by repairing the old community center, or take the alternate route and join forces with Joja Corporation.<br><br></li><li><strong>Court and marry a partner to share your life on the farm with. </strong> There are 12 available bachelors and bachelorettes to woo, each with unique character progression cutscenes. Once married, your partner will live on the farm with you. Who knows, maybe you\\'ll have kids and start a family?<br><br></li><li><strong>Spend a relaxing afternoon at one of the local fishing spots. </strong> The waters are teeming with seasonal varieties of delicious fish. Craft bait, bobbers, and crab pots to help you in your journey toward catching every fish and becoming a local legend! <br><br></li><li><strong>Donate artifacts and minerals to the local museum. </strong><br><br></li><li><strong>Cook delicious meals and craft useful items to help you out.  </strong>With over 100 cooking and crafting recipes, you\\'ll have a wide variety of items to create. Some dishes you cook will even give you temporary boosts to skills, running speed, or combat prowess. Craft useful objects like scarecrows, oil makers, furnaces, or even the rare and expensive crystalarium. <br><br></li><li><strong>Customize the appearance of your character and house. </strong> With hundreds of decorative items to choose from, you\\'ll have no trouble creating the home of your dreams!<br><br></li><li><strong>Xbox controller support (with rumble)! (Keyboard still required for text input) </strong><br><br></li><li><strong>Over two hours of original music. </strong></li></ul>',\n 'steam.short_description': \"You've inherited your grandfather's old farm plot in Stardew Valley. Armed with hand-me-down tools and a few coins, you set out to begin your new life. Can you learn to live off the land and turn these overgrown fields into a thriving home?\",\n 'steam.supported_languages': 'english german spanish  spain japanese portuguese  brazil russian simplified chinese french italian hungarian korean turkish',\n 'steam.reviews': True,\n 'steam.pc_requirements': True,\n 'steam.mac_requirements': True,\n 'steam.linux_requirements': True,\n 'steam.developers': ['ConcernedApe'],\n 'steam.categories_description': ['Single-player',\n  'Multi-player',\n  'Co-op',\n  'Online Co-op',\n  'LAN Co-op',\n  'Shared/Split Screen Co-op',\n  'Shared/Split Screen',\n  'Steam Achievements',\n  'Full controller support',\n  'Steam Trading Cards',\n  'Steam Cloud',\n  'Remote Play on Phone',\n  'Remote Play on Tablet',\n  'Remote Play Together'],\n 'steam.genres_description': ['Indie', 'RPG', 'Simulation'],\n 'steam.controller_support': True,\n 'steam.metacritic.score': 0.9175,\n 'steam.drm_consolidated_CrackProof': 0,\n 'steam.drm_consolidated_Denuvo': 0,\n 'steam.drm_consolidated_EA': 0,\n 'steam.drm_consolidated_Games for Windows Live': 0,\n 'steam.drm_consolidated_GameShield': 0,\n 'steam.drm_consolidated_Kalypso': 0,\n 'steam.drm_consolidated_SecuROM': 0,\n 'steam.drm_consolidated_Ubisoft': 0,\n 'steam.drm_consolidated_NA': 1}"
     },
     "execution_count": 10,
     "metadata": {},
     "output_type": "execute_result"
    }
   ],
   "source": [
    "allData[1]"
   ],
   "metadata": {
    "collapsed": false,
    "pycharm": {
     "name": "#%%\n"
    }
   }
  },
  {
   "cell_type": "code",
   "execution_count": 11,
   "outputs": [],
   "source": [
    "allCategoriesSet = set()\n",
    "allGenresSet = set()\n",
    "\n",
    "for game in allData:\n",
    "    allCategoriesSet.update(game['steam.categories_description'])\n",
    "    allGenresSet.update(game['steam.genres_description'])\n",
    "\n",
    "allCategories = sorted(allCategoriesSet)\n",
    "allGenres = sorted(allGenresSet)"
   ],
   "metadata": {
    "collapsed": false,
    "pycharm": {
     "name": "#%%\n"
    }
   }
  },
  {
   "cell_type": "code",
   "execution_count": 13,
   "outputs": [
    {
     "name": "stdout",
     "output_type": "stream",
     "text": [
      "Game 0/2227\n",
      "Game 100/2227\n",
      "Game 200/2227\n",
      "Game 300/2227\n",
      "Game 400/2227\n",
      "Game 500/2227\n",
      "Game 600/2227\n",
      "Game 700/2227\n",
      "Game 800/2227\n",
      "Game 900/2227\n",
      "Game 1000/2227\n",
      "Game 1100/2227\n",
      "Game 1200/2227\n",
      "Game 1300/2227\n",
      "Game 1400/2227\n",
      "Game 1500/2227\n",
      "Game 1600/2227\n",
      "Game 1700/2227\n",
      "Game 1800/2227\n",
      "Game 1900/2227\n",
      "Game 2000/2227\n",
      "Game 2100/2227\n",
      "Game 2200/2227\n",
      "Done\n"
     ]
    }
   ],
   "source": [
    "from copy import copy, deepcopy\n",
    "from vaderSentiment.vaderSentiment import SentimentIntensityAnalyzer\n",
    "from datetime import datetime, timezone, timedelta, date\n",
    "\n",
    "analyzer = SentimentIntensityAnalyzer()\n",
    "# We consider all types of spanish (spain, brazil) the same. This is because there are many ways to phrase it, and it is hard to clean.\n",
    "\n",
    "SUPPORTED_LANGUAGES = ['english', 'french', 'german', 'dutch', 'czech', 'hungarian', 'italian', 'japanese', 'polish', 'bulgarian', 'danish', 'spanish', 'finnish', 'greek', 'korean', 'norwegian', 'portuguese', 'romanian', 'russian', 'simplified chinese', 'traditional chinese', 'swedish', 'thai', 'turkish', 'ukrainian', 'vietnamese', 'arabic']\n",
    "\n",
    "def cleanup_data(game):\n",
    "    \"\"\"\n",
    "    Takes a single game object, and 1-hot encodes:\n",
    "      - Supported Languages\n",
    "      - Genres description\n",
    "      - Categories description\n",
    "    and runs sentiment analysis on:\n",
    "      - short description\n",
    "      - detailed description\n",
    "      - about the game\n",
    "    :param game:\n",
    "    :return:\n",
    "    \"\"\"\n",
    "    # Clone the data so we can run this multiple times on the same data\n",
    "    flattened_game = deepcopy(game)\n",
    "\n",
    "    # Languages\n",
    "    lang_str = flattened_game[\"steam.supported_languages\"]\n",
    "    for language in SUPPORTED_LANGUAGES:\n",
    "        attrib_name = f\"steam.supported_languages.{language.replace(' ', '_')}\".lower()\n",
    "        if language in lang_str:\n",
    "            flattened_game[attrib_name] = 1\n",
    "        else:\n",
    "            flattened_game[attrib_name] = 0\n",
    "    flattened_game.pop('steam.supported_languages', None)\n",
    "\n",
    "    # Genres\n",
    "    for genre in allGenres:\n",
    "        attrib_name = f\"steam.genres.{genre.replace(' ', '_')}\".lower()\n",
    "        if genre in flattened_game['steam.genres_description']:\n",
    "            flattened_game[attrib_name] = 1\n",
    "        else:\n",
    "            flattened_game[attrib_name] = 0\n",
    "    flattened_game.pop('steam.genres_description', None)\n",
    "\n",
    "    # Categories\n",
    "    # 'steam.categories_description'\n",
    "    for category in allCategories:\n",
    "        attrib_name = f\"steam.categories.{category.replace(' ', '_')}\".lower()\n",
    "        if category in flattened_game['steam.categories_description']:\n",
    "            flattened_game[attrib_name] = 1\n",
    "        else:\n",
    "            flattened_game[attrib_name] = 0\n",
    "    flattened_game.pop('steam.categories_description', None)\n",
    "\n",
    "    # Too many developers are unique. Let's try to simplify it a bit and just count the number of devs.\n",
    "    flattened_game['steam.developers'] = len(flattened_game['steam.developers'])\n",
    "\n",
    "\n",
    "    # Replace the 'steam.detailed_description', 'steam.about_the_game', 'steam.short_description' with their sentiment analysis\n",
    "    # {'neg': 0.11, 'neu': 0.803, 'pos': 0.087, 'compound': -0.8976}\n",
    "    LONG_FORM_TEXT_ATTRIBS = ['steam.detailed_description', 'steam.about_the_game', 'steam.short_description']\n",
    "    SENTIMENT_OPTIONS = ['neg', 'neu', 'pos', 'compound']\n",
    "    for attrib in LONG_FORM_TEXT_ATTRIBS:\n",
    "        analysis = analyzer.polarity_scores(flattened_game[attrib])\n",
    "        for sentiment in SENTIMENT_OPTIONS:\n",
    "            flattened_game[f\"{attrib}.{sentiment}\"] = analysis[sentiment]\n",
    "        flattened_game.pop(attrib, None)\n",
    "\n",
    "\n",
    "    return flattened_game\n",
    "\n",
    "def get_steam_sale_date_set():\n",
    "    # We only consider steam sales from https://steamdb.info/sales/history/ that are likely to affect many games\n",
    "    # These are things like the annual lunar, spring, summer, autumn, halloween, winter sales if they are present (varies slightly by year).\n",
    "    # This means we leave out end of year awards sales, and niche genre sales (e.g. VR, Polish independence, Golden week) because those sales do not repeat or only affect a small subset of games.\n",
    "    STEAM_SALE_DATES = [\n",
    "        # [Y,M,D,Duration(days)]\n",
    "        [2016,6,23,11],\n",
    "        [2016,10,28,4],\n",
    "        [2016,11,23,6],\n",
    "        [2016,12,22,11],\n",
    "        [2017,6,22,13],\n",
    "        [2017,10,26,6],\n",
    "        [2017,11,22,6],\n",
    "        [2017,12,21,14],\n",
    "        [2018,2,15,4],\n",
    "        [2018,5,24,4],\n",
    "        [2018,6,21,14],\n",
    "        [2018,10,29,3],\n",
    "        [2018,11,21,6],\n",
    "        [2018,12,20,14],\n",
    "        [2019,2,4,7],\n",
    "        [2019,5,24,4],\n",
    "        [2019,6,25,14],\n",
    "        [2019,10,28,4],\n",
    "        [2019,11,26,7],\n",
    "        [2019,12,19,14],\n",
    "        [2020,1,23,4],\n",
    "        [2020,5,21,7],\n",
    "        [2020,6,25,14],\n",
    "        [2020,10,29,4],\n",
    "        [2020,11,25,6],\n",
    "        [2020,12,22,14],\n",
    "        [2021,2,11,4],\n",
    "        [2021,6,24,14],\n",
    "        [2021,10,28,4],\n",
    "        [2021,12,22,14],\n",
    "        [2022,1,27,7],\n",
    "    ]\n",
    "    # Use a set for constant r/w speed\n",
    "    saleDates = set()\n",
    "\n",
    "    for sale in STEAM_SALE_DATES:\n",
    "        [y, m, d, duration] = sale\n",
    "        saleDate = date(y, m, d)\n",
    "        for i in range(0, duration):\n",
    "            saleDates.add(saleDate)\n",
    "            saleDate += timedelta(days=1)\n",
    "\n",
    "    return saleDates\n",
    "\n",
    "saleDates = get_steam_sale_date_set()\n",
    "\n",
    "\n",
    "# Pass in allData here\n",
    "def find_day_range_and_preprocess(data):\n",
    "    \"\"\"\n",
    "    I want it to be able to detect Data that is:\n",
    "        - seasonal (steam sales)\n",
    "        - price decreases after a long time (would this be a trend?)\n",
    "        - absolute time\n",
    "        - based off of the game's attributes\n",
    "    This means, my data should probably have:\n",
    "        - days since launch column\n",
    "        - isSteamSale (dates from https://steamdb.info/sales/history/)\n",
    "        - Year\n",
    "        - Month\n",
    "        - Day\n",
    "        - Add column for % of launch price. This might be more effective at predicting instead of raw number.\n",
    "\n",
    "    :param data:\n",
    "    :return:\n",
    "    \"\"\"\n",
    "\n",
    "    daysSet = set()\n",
    "    timesSet = set()\n",
    "    timestamps = set()\n",
    "    for game_obj in data:\n",
    "        sales = game_obj['itad.sales']\n",
    "        timestamps.update([row[0] for row in sales])\n",
    "\n",
    "    for timestamp in timestamps:\n",
    "        dt_val = datetime.fromtimestamp(int(timestamp) / 1000,tz=timezone.utc)\n",
    "        timesSet.add(dt_val.time())\n",
    "        daysSet.add(dt_val.date())\n",
    "\n",
    "    return\n",
    "\n",
    "def forward_fill_sales(ff_game):\n",
    "    sales = ff_game['itad.sales']\n",
    "    eachDayRecord = []\n",
    "    [releaseTimestamp, releasePrice] = sales[0]\n",
    "\n",
    "    # Will never be affected by daylight savings or leap things.\n",
    "    releaseDt = datetime.fromtimestamp(int(releaseTimestamp) / 1000,tz=timezone.utc).replace(hour=0, minute=30, second=0, microsecond=0)\n",
    "    workingDay = releaseDt\n",
    "    # Fill out stuff until the last day's price change\n",
    "    for sale in sales:\n",
    "        [saleTimestamp, salePrice] = sale\n",
    "        saleTimestamp /= 1000\n",
    "        # some data is bad\n",
    "        if salePrice == 'NA':\n",
    "            continue\n",
    "        while workingDay.timestamp() <= saleTimestamp:\n",
    "            eachDayRecord.append({\n",
    "                'timestamp': workingDay.timestamp(),\n",
    "                'year': workingDay.year,\n",
    "                'month': workingDay.month,\n",
    "                'day': workingDay.day,\n",
    "                'daysSinceLaunch': (workingDay - releaseDt).days,\n",
    "                'price': salePrice,\n",
    "                # 'percentOfReleasePrice': salePrice / releasePrice,\n",
    "                'isSteamSale':  workingDay.date() in saleDates,\n",
    "            })\n",
    "\n",
    "            # move 1 day into the future, then set the time to 12:30 AM\n",
    "            workingDay += timedelta(days=1)\n",
    "            workingDay = workingDay.replace(hour=0, minute=30, second=0, microsecond=0)\n",
    "    # Due to the way the data was scraped, there is no need to forward fill.\n",
    "    return eachDayRecord\n",
    "\n",
    "\n",
    "cleanData = []\n",
    "numGames = len(allData)\n",
    "for ind, game in enumerate(allData):\n",
    "    if ind % 100 == 0:\n",
    "        print(f\"Game {ind}/{numGames}\")\n",
    "    modified_game = cleanup_data(game)\n",
    "    modified_game['itad.sales'] = forward_fill_sales(modified_game)\n",
    "    cleanData.append(modified_game)\n",
    "\n",
    "print(\"Done\")\n",
    "\n"
   ],
   "metadata": {
    "collapsed": false,
    "pycharm": {
     "name": "#%%\n"
    }
   }
  },
  {
   "cell_type": "code",
   "execution_count": null,
   "outputs": [],
   "source": [
    "# cleanData"
   ],
   "metadata": {
    "collapsed": false,
    "pycharm": {
     "name": "#%%\n"
    }
   }
  },
  {
   "cell_type": "code",
   "execution_count": 14,
   "outputs": [
    {
     "name": "stdout",
     "output_type": "stream",
     "text": [
      "1 2225\n"
     ]
    }
   ],
   "source": [
    "n_true = 0\n",
    "n_false = 0\n",
    "\n",
    "for i in range(1, len(cleanData)):\n",
    "    if cleanData[i]['itad.sales'] == cleanData[i - 1]['itad.sales']:\n",
    "        n_true += 1\n",
    "    else:\n",
    "        n_false += 1\n",
    "\n",
    "print(n_true, n_false)"
   ],
   "metadata": {
    "collapsed": false,
    "pycharm": {
     "name": "#%%\n"
    }
   }
  },
  {
   "cell_type": "code",
   "execution_count": null,
   "outputs": [],
   "source": [
    "\n",
    "\n",
    "# We use an off the shelf sentiment analysis since this may play a part in predicting the price, but I kinda doubt it.\n",
    "# Putting this here in case it actually does.\n",
    "\n",
    "# with open('cleanDataReadable.json', 'w', encoding='utf-8') as f:\n",
    "#     json.dump(cleanData, f, ensure_ascii=False, indent=4)\n",
    "#\n",
    "# with open('cleanData.json', 'w', encoding='utf-8') as f:\n",
    "#     json.dump(cleanData, f, ensure_ascii=False)"
   ],
   "metadata": {
    "collapsed": false,
    "pycharm": {
     "name": "#%%\n"
    }
   }
  },
  {
   "cell_type": "code",
   "execution_count": 15,
   "outputs": [
    {
     "data": {
      "text/plain": "dict_keys(['steamId', 'itadPlain', 'itad.position', 'itad.rank', 'itad.sales', 'steam.name', 'steam.steam_appid', 'steam.required_age', 'steam.is_free', 'steam.dlc', 'steam.reviews', 'steam.pc_requirements', 'steam.mac_requirements', 'steam.linux_requirements', 'steam.developers', 'steam.controller_support', 'steam.metacritic.score', 'steam.drm_consolidated_CrackProof', 'steam.drm_consolidated_Denuvo', 'steam.drm_consolidated_EA', 'steam.drm_consolidated_Games for Windows Live', 'steam.drm_consolidated_GameShield', 'steam.drm_consolidated_Kalypso', 'steam.drm_consolidated_SecuROM', 'steam.drm_consolidated_Ubisoft', 'steam.drm_consolidated_NA', 'steam.supported_languages.english', 'steam.supported_languages.french', 'steam.supported_languages.german', 'steam.supported_languages.dutch', 'steam.supported_languages.czech', 'steam.supported_languages.hungarian', 'steam.supported_languages.italian', 'steam.supported_languages.japanese', 'steam.supported_languages.polish', 'steam.supported_languages.bulgarian', 'steam.supported_languages.danish', 'steam.supported_languages.spanish', 'steam.supported_languages.finnish', 'steam.supported_languages.greek', 'steam.supported_languages.korean', 'steam.supported_languages.norwegian', 'steam.supported_languages.portuguese', 'steam.supported_languages.romanian', 'steam.supported_languages.russian', 'steam.supported_languages.simplified_chinese', 'steam.supported_languages.traditional_chinese', 'steam.supported_languages.swedish', 'steam.supported_languages.thai', 'steam.supported_languages.turkish', 'steam.supported_languages.ukrainian', 'steam.supported_languages.vietnamese', 'steam.supported_languages.arabic', 'steam.genres.action', 'steam.genres.adventure', 'steam.genres.animation_&_modeling', 'steam.genres.casual', 'steam.genres.design_&_illustration', 'steam.genres.early_access', 'steam.genres.education', 'steam.genres.free_to_play', 'steam.genres.game_development', 'steam.genres.gore', 'steam.genres.indie', 'steam.genres.massively_multiplayer', 'steam.genres.nudity', 'steam.genres.photo_editing', 'steam.genres.rpg', 'steam.genres.racing', 'steam.genres.simulation', 'steam.genres.software_training', 'steam.genres.sports', 'steam.genres.strategy', 'steam.genres.utilities', 'steam.genres.video_production', 'steam.genres.violent', 'steam.genres.web_publishing', 'steam.categories.captions_available', 'steam.categories.co-op', 'steam.categories.commentary_available', 'steam.categories.cross-platform_multiplayer', 'steam.categories.full_controller_support', 'steam.categories.in-app_purchases', 'steam.categories.includes_source_sdk', 'steam.categories.includes_level_editor', 'steam.categories.lan_co-op', 'steam.categories.lan_pvp', 'steam.categories.mmo', 'steam.categories.multi-player', 'steam.categories.online_co-op', 'steam.categories.online_pvp', 'steam.categories.partial_controller_support', 'steam.categories.pvp', 'steam.categories.remote_play_together', 'steam.categories.remote_play_on_phone', 'steam.categories.remote_play_on_tv', 'steam.categories.remote_play_on_tablet', 'steam.categories.shared/split_screen', 'steam.categories.shared/split_screen_co-op', 'steam.categories.shared/split_screen_pvp', 'steam.categories.single-player', 'steam.categories.stats', 'steam.categories.steam_achievements', 'steam.categories.steam_cloud', 'steam.categories.steam_leaderboards', 'steam.categories.steam_trading_cards', 'steam.categories.steam_turn_notifications', 'steam.categories.steam_workshop', 'steam.categories.steamvr_collectibles', 'steam.categories.vr_support', 'steam.categories.valve_anti-cheat_enabled', 'steam.detailed_description.neg', 'steam.detailed_description.neu', 'steam.detailed_description.pos', 'steam.detailed_description.compound', 'steam.about_the_game.neg', 'steam.about_the_game.neu', 'steam.about_the_game.pos', 'steam.about_the_game.compound', 'steam.short_description.neg', 'steam.short_description.neu', 'steam.short_description.pos', 'steam.short_description.compound'])"
     },
     "execution_count": 15,
     "metadata": {},
     "output_type": "execute_result"
    }
   ],
   "source": [
    "# Everything has standardized keys. let's list them all.\n",
    "keys = cleanData[0].keys()\n",
    "keys"
   ],
   "metadata": {
    "collapsed": false,
    "pycharm": {
     "name": "#%%\n"
    }
   }
  },
  {
   "cell_type": "code",
   "execution_count": 16,
   "outputs": [
    {
     "name": "stdout",
     "output_type": "stream",
     "text": [
      "Game 0/2227\n",
      "Game 50/2227\n",
      "Game 100/2227\n",
      "Game 150/2227\n",
      "Game 200/2227\n",
      "Game 250/2227\n",
      "Game 300/2227\n",
      "Game 350/2227\n",
      "Game 400/2227\n",
      "Game 450/2227\n",
      "Game 500/2227\n",
      "Game 550/2227\n",
      "Game 600/2227\n",
      "Game 650/2227\n",
      "Game 700/2227\n",
      "Game 750/2227\n",
      "Game 800/2227\n",
      "Game 850/2227\n",
      "Game 900/2227\n",
      "Game 950/2227\n",
      "Game 1000/2227\n",
      "Game 1050/2227\n",
      "Game 1100/2227\n",
      "Game 1150/2227\n",
      "Game 1200/2227\n",
      "Game 1250/2227\n",
      "Game 1300/2227\n",
      "Game 1350/2227\n",
      "Game 1400/2227\n",
      "Game 1450/2227\n",
      "Game 1500/2227\n",
      "Game 1550/2227\n",
      "Game 1600/2227\n",
      "Game 1650/2227\n",
      "Game 1700/2227\n",
      "Game 1750/2227\n",
      "Game 1800/2227\n",
      "Game 1850/2227\n",
      "Game 1900/2227\n",
      "Game 1950/2227\n",
      "Game 2000/2227\n",
      "Game 2050/2227\n",
      "Game 2100/2227\n",
      "Game 2150/2227\n",
      "Game 2200/2227\n"
     ]
    }
   ],
   "source": [
    "import csv\n",
    "\n",
    "# These will be our columns.\n",
    "with open('data.csv', 'w', newline='', encoding='utf-8') as csvfile:\n",
    "    fieldnames = list(cleanData[0].keys())\n",
    "    fieldnames.remove('itad.sales')\n",
    "    fieldnames.extend(['steam.ext_user_account_notice', 'timestamp', 'year', 'month', 'day', 'daysSinceLaunch', 'price', 'percentOfReleasePrice', 'isSteamSale'])\n",
    "\n",
    "    writer = csv.DictWriter(csvfile, fieldnames=fieldnames)\n",
    "    writer.writeheader()\n",
    "\n",
    "    dataLen = len(cleanData)\n",
    "    for ind, data in enumerate(cleanData):\n",
    "        if ind % 50 == 0:\n",
    "            print(f\"Game {ind}/{dataLen}\")\n",
    "        try:\n",
    "            for day in data['itad.sales']:\n",
    "                modified_data = copy(data)\n",
    "                modified_data.pop('itad.sales', None)\n",
    "                writer.writerow({'steam.ext_user_account_notice': False, 'steam.metacritic.score': -1, **modified_data, **day})\n",
    "        except:\n",
    "            print(\"Error on: \", data)"
   ],
   "metadata": {
    "collapsed": false,
    "pycharm": {
     "name": "#%%\n"
    }
   }
  },
  {
   "cell_type": "code",
   "execution_count": null,
   "outputs": [],
   "source": [],
   "metadata": {
    "collapsed": false,
    "pycharm": {
     "name": "#%%\n"
    }
   }
  }
 ],
 "metadata": {
  "kernelspec": {
   "display_name": "Python 3",
   "language": "python",
   "name": "python3"
  },
  "language_info": {
   "codemirror_mode": {
    "name": "ipython",
    "version": 2
   },
   "file_extension": ".py",
   "mimetype": "text/x-python",
   "name": "python",
   "nbconvert_exporter": "python",
   "pygments_lexer": "ipython2",
   "version": "2.7.6"
  }
 },
 "nbformat": 4,
 "nbformat_minor": 0
}